{
 "cells": [
  {
   "cell_type": "code",
   "execution_count": 7,
   "metadata": {
    "collapsed": true,
    "pycharm": {
     "is_executing": false
    }
   },
   "outputs": [],
   "source": [
    "# read docs\n",
    "\n",
    "docs_path = \"/home/nikita/PycharmProjects/ml-diplom/ir/data/data/docs.tsv\"\n",
    "queries_path = \"/home/nikita/PycharmProjects/ml-diplom/ir/data/data/queries.numerate.txt\""
   ]
  },
  {
   "cell_type": "code",
   "execution_count": 12,
   "outputs": [],
   "source": [
    "def read_docs_tsv(path:str) -> list:\n",
    "    result = []\n",
    "    with open(path) as f:\n",
    "        for line in f.readlines():\n",
    "            idx, text = line.split(maxsplit=1)\n",
    "            result.append((str(idx), text.split()))\n",
    "    return result\n",
    "\n",
    "def read_file(path:str) -> list:\n",
    "    result = []\n",
    "    with open(path) as f:\n",
    "        for line in f.readlines():\n",
    "            result.append(line)\n",
    "    return result"
   ],
   "metadata": {
    "collapsed": false,
    "pycharm": {
     "name": "#%%\n",
     "is_executing": false
    }
   }
  },
  {
   "cell_type": "code",
   "execution_count": 13,
   "outputs": [],
   "source": [
    "docs = read_docs_tsv(docs_path)\n",
    "queries = read_file(queries_path)"
   ],
   "metadata": {
    "collapsed": false,
    "pycharm": {
     "name": "#%%\n",
     "is_executing": false
    }
   }
  },
  {
   "cell_type": "code",
   "execution_count": 19,
   "outputs": [],
   "source": [
    "def build_inverted_index():\n",
    "    inverted_index = {}\n",
    "    for (doc_idx, doc) in docs:\n",
    "        for word in doc:\n",
    "            if word not in inverted_index:    \n",
    "                inverted_index[word] = set()\n",
    "            inverted_index[word].add(doc_idx)\n",
    "    return inverted_index\n",
    "\n",
    "reversed_indexes = build_inverted_index()"
   ],
   "metadata": {
    "collapsed": false,
    "pycharm": {
     "name": "#%%\n",
     "is_executing": false
    }
   }
  },
  {
   "cell_type": "code",
   "execution_count": 20,
   "outputs": [],
   "source": [
    "class QueryTree:\n",
    "    def __init__(self, qid:int, query:list):\n",
    "        self.qid = qid\n",
    "        self.query = query\n",
    "    \n",
    "    def execute_query(self, reversed_index: dict) -> set:\n",
    "        result_set = None\n",
    "        for sub_query in self.query:\n",
    "            merged_set = set()\n",
    "            for synonym in sub_query:    \n",
    "                current_set = set() if synonym not in reversed_index else reversed_index[synonym]\n",
    "                merged_set = merged_set | current_set\n",
    "            if result_set is None:\n",
    "                result_set = merged_set\n",
    "            result_set = result_set & merged_set\n",
    "        return result_set\n",
    "\n",
    "def prepare_query(query:str) -> QueryTree: \n",
    "    def inner(x:str) -> list:\n",
    "        if x[0] == '(':\n",
    "            x = x[1:-1]\n",
    "            return x.split('|')\n",
    "        return [x]\n",
    "    split_values = query.split()\n",
    "    idx = split_values[0]\n",
    "    parsed_query = list(map(inner, split_values[1:]))\n",
    "    return QueryTree(idx, parsed_query)"
   ],
   "metadata": {
    "collapsed": false,
    "pycharm": {
     "name": "#%%\n",
     "is_executing": false
    }
   }
  },
  {
   "cell_type": "code",
   "execution_count": 21,
   "outputs": [],
   "source": [
    "queries_tree = list(map(prepare_query, queries))"
   ],
   "metadata": {
    "collapsed": false,
    "pycharm": {
     "name": "#%%\n",
     "is_executing": false
    }
   }
  },
  {
   "cell_type": "code",
   "execution_count": 24,
   "outputs": [
    {
     "data": {
      "text/plain": "'\\ntop = []\\nfor k, v in res.items():\\n    top.append((k, len(v)))\\n\\ntop.sort(key=lambda x:x[1], reverse=True)\\n'"
     },
     "metadata": {},
     "output_type": "execute_result",
     "execution_count": 24
    }
   ],
   "source": [
    "rs = queries_tree[44].execute_query(reversed_indexes)\n",
    "\n",
    "\"\"\"\n",
    "top = []\n",
    "for k, v in res.items():\n",
    "    top.append((k, len(v)))\n",
    "\n",
    "top.sort(key=lambda x:x[1], reverse=True)\n",
    "\"\"\""
   ],
   "metadata": {
    "collapsed": false,
    "pycharm": {
     "name": "#%%\n",
     "is_executing": false
    }
   }
  }
 ],
 "metadata": {
  "kernelspec": {
   "display_name": "Python 3",
   "language": "python",
   "name": "python3"
  },
  "language_info": {
   "codemirror_mode": {
    "name": "ipython",
    "version": 2
   },
   "file_extension": ".py",
   "mimetype": "text/x-python",
   "name": "python",
   "nbconvert_exporter": "python",
   "pygments_lexer": "ipython2",
   "version": "2.7.6"
  },
  "pycharm": {
   "stem_cell": {
    "cell_type": "raw",
    "source": [],
    "metadata": {
     "collapsed": false
    }
   }
  }
 },
 "nbformat": 4,
 "nbformat_minor": 0
}