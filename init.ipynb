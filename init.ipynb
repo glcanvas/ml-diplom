{
 "cells": [
  {
   "cell_type": "code",
   "execution_count": 1,
   "metadata": {
    "collapsed": true,
    "pycharm": {
     "is_executing": false
    }
   },
   "outputs": [
    {
     "name": "stderr",
     "text": [
      "/home/nikita/anaconda3/envs/ml-diplom/lib/python3.7/site-packages/torchvision/transforms/transforms.py:210: UserWarning: The use of the transforms.Scale transform is deprecated, please use transforms.Resize instead.\n  warnings.warn(\"The use of the transforms.Scale transform is deprecated, \" +\n"
     ],
     "output_type": "stream"
    }
   ],
   "source": [
    "import gain\n",
    "import image_loader as il\n",
    "from torch.utils.data import DataLoader"
   ]
  },
  {
   "cell_type": "code",
   "execution_count": 2,
   "outputs": [],
   "source": [
    "gain_model = gain.AttentionGAIN()"
   ],
   "metadata": {
    "collapsed": false,
    "pycharm": {
     "name": "#%%\n",
     "is_executing": false
    }
   }
  },
  {
   "cell_type": "code",
   "execution_count": 3,
   "outputs": [],
   "source": [
    "loader = il.DatasetLoader.initial()\n",
    "train = loader.load_tensors(0, 1)\n",
    "test = loader.load_tensors(0, 1)\n",
    "\n",
    "train_set = DataLoader(il.ImageDataset(train), batch_size=1, shuffle=True, num_workers=0)\n",
    "test_set = DataLoader(il.ImageDataset(test), batch_size=1, shuffle=True, num_workers=0)\n",
    "\n",
    "rds = {'train': train_set, 'test': train_set}"
   ],
   "metadata": {
    "collapsed": false,
    "pycharm": {
     "name": "#%% \n",
     "is_executing": false
    }
   }
  },
  {
   "cell_type": "code",
   "execution_count": 4,
   "outputs": [
    {
     "name": "stderr",
     "text": [
      "/home/nikita/anaconda3/envs/ml-diplom/lib/python3.7/site-packages/torch/nn/functional.py:2390: UserWarning: nn.functional.upsample is deprecated. Use nn.functional.interpolate instead.\n  warnings.warn(\"nn.functional.upsample is deprecated. Use nn.functional.interpolate instead.\")\n/home/nikita/anaconda3/envs/ml-diplom/lib/python3.7/site-packages/torch/nn/functional.py:2479: UserWarning: Default upsampling behavior when mode=bilinear is changed to align_corners=False since 0.4.0. Please specify align_corners=True if the old behavior is desired. See the documentation of nn.Upsample for details.\n  \"See the documentation of nn.Upsample for details.\".format(mode))\n/home/nikita/anaconda3/envs/ml-diplom/lib/python3.7/site-packages/torch/nn/functional.py:1350: UserWarning: nn.functional.sigmoid is deprecated. Use torch.sigmoid instead.\n  warnings.warn(\"nn.functional.sigmoid is deprecated. Use torch.sigmoid instead.\")\n"
     ],
     "output_type": "stream"
    },
    {
     "name": "stdout",
     "text": [
      "PRETRAIN Epoch 1, Loss_CL: 1.225314, Loss_AM: 0.462189, Loss E: 10209.639648, Loss Total: 102098.085938, Accuracy_CL: 100.000000%\n",
      "PRETRAIN Epoch 2, Loss_CL: 0.001214, Loss_AM: 0.971084, Loss E: 8205.367188, Loss Total: 82054.640625, Accuracy_CL: 100.000000%\n",
      "PRETRAIN Epoch 3, Loss_CL: 0.000000, Loss_AM: 1.000000, Loss E: 43865415680.000000, Loss Total: 438654140416.000000, Accuracy_CL: 100.000000%\n",
      "PRETRAIN Epoch 4, Loss_CL: 0.000000, Loss_AM: 1.000000, Loss E: 185750674997248.000000, Loss Total: 1857506783526912.000000, Accuracy_CL: 100.000000%\n",
      "PRETRAIN Epoch 5, Loss_CL: 0.000000, Loss_AM: 1.000000, Loss E: 50228311086858240.000000, Loss Total: 502283093688713216.000000, Accuracy_CL: 100.000000%\n",
      "TRAIN Epoch 6, Loss_CL: 0.000000, Loss_AM: 1.000000, Loss E: 12404443893964210176.000000, Loss Total: 124044438939642101760.000000, Accuracy_CL: 100.000000%\n",
      "TRAIN Epoch 7, Loss_CL: 0.000000, Loss_AM: 1.000000, Loss E: 226956121473024.000000, Loss Total: 2269561114066944.000000, Accuracy_CL: 100.000000%\n",
      "TRAIN Epoch 8, Loss_CL: 0.000000, Loss_AM: 1.000000, Loss E: 541671104.000000, Loss Total: 5416711168.000000, Accuracy_CL: 100.000000%\n",
      "TRAIN Epoch 9, Loss_CL: 0.000001, Loss_AM: 0.999977, Loss E: 22601.699219, Loss Total: 226018.000000, Accuracy_CL: 100.000000%\n",
      "TRAIN Epoch 10, Loss_CL: 0.016178, Loss_AM: 0.950444, Loss E: 8878.247070, Loss Total: 88783.437500, Accuracy_CL: 100.000000%\n",
      "TRAIN Epoch 11, Loss_CL: 0.128442, Loss_AM: 0.894574, Loss E: 9875.690430, Loss Total: 98757.929688, Accuracy_CL: 100.000000%\n",
      "TRAIN Epoch 12, Loss_CL: 0.177197, Loss_AM: 0.853249, Loss E: 9998.521484, Loss Total: 99986.250000, Accuracy_CL: 100.000000%\n",
      "TRAIN Epoch 13, Loss_CL: 0.048795, Loss_AM: 0.919750, Loss E: 9382.959961, Loss Total: 93830.570312, Accuracy_CL: 100.000000%\n",
      "TRAIN Epoch 14, Loss_CL: 0.002316, Loss_AM: 0.964220, Loss E: 7539.776855, Loss Total: 75398.734375, Accuracy_CL: 100.000000%\n",
      "TRAIN Epoch 15, Loss_CL: 0.000130, Loss_AM: 0.991670, Loss E: 7938.565430, Loss Total: 79386.648438, Accuracy_CL: 100.000000%\n",
      "TRAIN Epoch 16, Loss_CL: 0.000001, Loss_AM: 0.998200, Loss E: 27907.781250, Loss Total: 279078.812500, Accuracy_CL: 100.000000%\n",
      "TRAIN Epoch 17, Loss_CL: 0.000015, Loss_AM: 0.998183, Loss E: 12845.805664, Loss Total: 128459.054688, Accuracy_CL: 100.000000%\n",
      "TRAIN Epoch 18, Loss_CL: 0.007690, Loss_AM: 0.989954, Loss E: 8046.912109, Loss Total: 80470.125000, Accuracy_CL: 100.000000%\n",
      "TRAIN Epoch 19, Loss_CL: 0.000188, Loss_AM: 0.988803, Loss E: 7601.818848, Loss Total: 76019.179688, Accuracy_CL: 100.000000%\n",
      "TRAIN Epoch 20, Loss_CL: 0.002532, Loss_AM: 0.971210, Loss E: 7390.073242, Loss Total: 73901.710938, Accuracy_CL: 100.000000%\n",
      "TRAIN Epoch 21, Loss_CL: 0.006350, Loss_AM: 0.999233, Loss E: 7950.112305, Loss Total: 79502.132812, Accuracy_CL: 100.000000%\n",
      "TRAIN Epoch 22, Loss_CL: 0.004876, Loss_AM: 0.995999, Loss E: 7597.299316, Loss Total: 75973.992188, Accuracy_CL: 100.000000%\n",
      "TRAIN Epoch 23, Loss_CL: 0.000103, Loss_AM: 0.992350, Loss E: 8832.385742, Loss Total: 88324.851562, Accuracy_CL: 100.000000%\n",
      "TRAIN Epoch 24, Loss_CL: 0.000038, Loss_AM: 0.999739, Loss E: 10344.020508, Loss Total: 103441.203125, Accuracy_CL: 100.000000%\n",
      "TRAIN Epoch 25, Loss_CL: 0.000005, Loss_AM: 0.987338, Loss E: 17205.900391, Loss Total: 172059.984375, Accuracy_CL: 100.000000%\n",
      "TRAIN Epoch 26, Loss_CL: 0.001539, Loss_AM: 0.994980, Loss E: 7167.569336, Loss Total: 71676.695312, Accuracy_CL: 100.000000%\n",
      "TRAIN Epoch 27, Loss_CL: 0.020899, Loss_AM: 0.933302, Loss E: 8636.577148, Loss Total: 86366.726562, Accuracy_CL: 100.000000%\n",
      "TRAIN Epoch 28, Loss_CL: 0.035836, Loss_AM: 0.879416, Loss E: 8985.751953, Loss Total: 89858.429688, Accuracy_CL: 100.000000%\n",
      "TRAIN Epoch 29, Loss_CL: 0.022079, Loss_AM: 0.988572, Loss E: 8603.649414, Loss Total: 86037.500000, Accuracy_CL: 100.000000%\n",
      "TRAIN Epoch 30, Loss_CL: 0.003551, Loss_AM: 0.987383, Loss E: 7415.528320, Loss Total: 74156.273438, Accuracy_CL: 100.000000%\n",
      "TRAIN Epoch 31, Loss_CL: 0.001606, Loss_AM: 0.998777, Loss E: 7091.672363, Loss Total: 70917.726562, Accuracy_CL: 100.000000%\n",
      "TRAIN Epoch 32, Loss_CL: 0.000051, Loss_AM: 0.999789, Loss E: 10262.403320, Loss Total: 102625.031250, Accuracy_CL: 100.000000%\n",
      "TRAIN Epoch 33, Loss_CL: 0.000179, Loss_AM: 0.995012, Loss E: 7702.665039, Loss Total: 77027.640625, Accuracy_CL: 100.000000%\n",
      "TRAIN Epoch 34, Loss_CL: 0.023382, Loss_AM: 0.953688, Loss E: 8677.960938, Loss Total: 86780.585938, Accuracy_CL: 100.000000%\n",
      "TRAIN Epoch 35, Loss_CL: 0.079921, Loss_AM: 0.927668, Loss E: 9546.294922, Loss Total: 95463.960938, Accuracy_CL: 100.000000%\n",
      "TRAIN Epoch 36, Loss_CL: 0.110138, Loss_AM: 0.864510, Loss E: 9691.817383, Loss Total: 96919.148438, Accuracy_CL: 100.000000%\n",
      "TRAIN Epoch 37, Loss_CL: 0.083979, Loss_AM: 0.822966, Loss E: 9570.290039, Loss Total: 95703.804688, Accuracy_CL: 100.000000%\n",
      "TRAIN Epoch 38, Loss_CL: 0.096649, Loss_AM: 0.915356, Loss E: 9608.500977, Loss Total: 96086.023438, Accuracy_CL: 100.000000%\n",
      "TRAIN Epoch 39, Loss_CL: 0.028838, Loss_AM: 0.931520, Loss E: 8815.734375, Loss Total: 88158.304688, Accuracy_CL: 100.000000%\n",
      "TRAIN Epoch 40, Loss_CL: 0.001473, Loss_AM: 0.949574, Loss E: 7032.709961, Loss Total: 70328.054688, Accuracy_CL: 100.000000%\n",
      "TRAIN Epoch 41, Loss_CL: 0.002258, Loss_AM: 0.996185, Loss E: 7201.624512, Loss Total: 72017.242188, Accuracy_CL: 100.000000%\n",
      "TRAIN Epoch 42, Loss_CL: 0.001166, Loss_AM: 0.994518, Loss E: 6973.399902, Loss Total: 69734.992188, Accuracy_CL: 100.000000%\n",
      "TRAIN Epoch 43, Loss_CL: 0.000014, Loss_AM: 0.999993, Loss E: 14271.047852, Loss Total: 142711.484375, Accuracy_CL: 100.000000%\n",
      "TRAIN Epoch 44, Loss_CL: 0.000835, Loss_AM: 0.998958, Loss E: 6907.620605, Loss Total: 69077.203125, Accuracy_CL: 100.000000%\n",
      "TRAIN Epoch 45, Loss_CL: 0.026524, Loss_AM: 0.967238, Loss E: 8632.181641, Loss Total: 86322.804688, Accuracy_CL: 100.000000%\n",
      "TRAIN Epoch 46, Loss_CL: 0.061470, Loss_AM: 0.966757, Loss E: 9282.198242, Loss Total: 92823.015625, Accuracy_CL: 100.000000%\n",
      "TRAIN Epoch 47, Loss_CL: 0.020058, Loss_AM: 0.893296, Loss E: 8586.677734, Loss Total: 85867.695312, Accuracy_CL: 100.000000%\n",
      "TRAIN Epoch 48, Loss_CL: 0.034590, Loss_AM: 0.894637, Loss E: 8936.624023, Loss Total: 89367.171875, Accuracy_CL: 100.000000%\n",
      "TRAIN Epoch 49, Loss_CL: 0.004932, Loss_AM: 0.953323, Loss E: 7748.591309, Loss Total: 77486.875000, Accuracy_CL: 100.000000%\n",
      "TRAIN Epoch 50, Loss_CL: 0.001156, Loss_AM: 0.986902, Loss E: 7084.874512, Loss Total: 70849.726562, Accuracy_CL: 100.000000%\n"
     ],
     "output_type": "stream"
    }
   ],
   "source": [
    "gain_model.train(rds, 200)"
   ],
   "metadata": {
    "collapsed": false,
    "pycharm": {
     "name": "#%%\n",
     "is_executing": false
    }
   }
  },
  {
   "cell_type": "code",
   "execution_count": 5,
   "outputs": [
    {
     "name": "stderr",
     "text": [
      "Clipping input data to the valid range for imshow with RGB data ([0..1] for floats or [0..255] for integers).\n"
     ],
     "output_type": "stream"
    },
    {
     "data": {
      "text/plain": "<Figure size 432x288 with 1 Axes>",
      "image/png": "[encoded data removed]"
     },
     "metadata": {
      "needs_background": "light"
     },
     "output_type": "display_data"
    },
    {
     "data": {
      "text/plain": "<Figure size 432x288 with 0 Axes>"
     },
     "metadata": {},
     "output_type": "display_data"
    },
    {
     "name": "stdout",
     "text": [
      "TEST Loss_CL: 0.009670, Loss_AM: nan, Loss_Total: nan, Accuracy_CL: 100.000000%\n"
     ],
     "output_type": "stream"
    }
   ],
   "source": [
    "gain_model.test(rds)\n",
    "\n"
   ],
   "metadata": {
    "collapsed": false,
    "pycharm": {
     "name": "#%%\n",
     "is_executing": false
    }
   }
  }
 ],
 "metadata": {
  "kernelspec": {
   "display_name": "Python 3",
   "language": "python",
   "name": "python3"
  },
  "language_info": {
   "codemirror_mode": {
    "name": "ipython",
    "version": 2
   },
   "file_extension": ".py",
   "mimetype": "text/x-python",
   "name": "python",
   "nbconvert_exporter": "python",
   "pygments_lexer": "ipython2",
   "version": "2.7.6"
  },
  "pycharm": {
   "stem_cell": {
    "cell_type": "raw",
    "source": [],
    "metadata": {
     "collapsed": false
    }
   }
  }
 },
 "nbformat": 4,
 "nbformat_minor": 0
}