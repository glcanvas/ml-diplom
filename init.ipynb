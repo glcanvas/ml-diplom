{
 "cells": [
  {
   "cell_type": "code",
   "execution_count": 3,
   "outputs": [
    {
     "name": "stdout",
     "text": [
      "tensor([[[[1, 2, 3, 4],\n          [5, 6, 7, 8]]],\n\n\n        [[[1, 2, 3, 4],\n          [5, 6, 7, 8]]],\n\n\n        [[[1, 2, 3, 4],\n          [5, 6, 7, 8]]],\n\n\n        [[[1, 2, 3, 4],\n          [5, 6, 7, 8]]],\n\n\n        [[[1, 2, 3, 4],\n          [5, 6, 7, 8]]]])\ntorch.Size([5, 1, 2, 4])\n"
     ],
     "output_type": "stream"
    }
   ],
   "source": [
    "import torch\n",
    "\n",
    "a = [[[1,2,3,4], [5,6,7,8]]]\n",
    "a = [a] * 5\n",
    "\n",
    "b = torch.tensor(a)\n",
    "\n",
    "print(b)\n",
    "\n",
    "print(b.shape)"
   ],
   "metadata": {
    "collapsed": false,
    "pycharm": {
     "name": "#%%\n",
     "is_executing": false
    }
   }
  },
  {
   "cell_type": "code",
   "execution_count": null,
   "outputs": [],
   "source": [
    "\n"
   ],
   "metadata": {
    "collapsed": false,
    "pycharm": {
     "name": "#%%\n"
    }
   }
  }
 ],
 "metadata": {
  "kernelspec": {
   "display_name": "Python 3",
   "language": "python",
   "name": "python3"
  },
  "language_info": {
   "codemirror_mode": {
    "name": "ipython",
    "version": 2
   },
   "file_extension": ".py",
   "mimetype": "text/x-python",
   "name": "python",
   "nbconvert_exporter": "python",
   "pygments_lexer": "ipython2",
   "version": "2.7.6"
  },
  "pycharm": {
   "stem_cell": {
    "cell_type": "raw",
    "source": [],
    "metadata": {
     "collapsed": false
    }
   }
  }
 },
 "nbformat": 4,
 "nbformat_minor": 0
}