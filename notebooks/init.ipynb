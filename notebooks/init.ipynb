{
 "cells": [
  {
   "cell_type": "code",
   "execution_count": 1,
   "outputs": [
    {
     "name": "stderr",
     "text": [
      "/home/nikita/anaconda3/envs/ml-diplom/lib/python3.7/site-packages/torchvision/transforms/transforms.py:210: UserWarning: The use of the transforms.Scale transform is deprecated, please use transforms.Resize instead.\n  warnings.warn(\"The use of the transforms.Scale transform is deprecated, \" +\n"
     ],
     "output_type": "stream"
    }
   ],
   "source": [
    "import torch.nn as nn\n",
    "import torch.nn.functional as F\n",
    "from torchvision import models\n",
    "import torch\n",
    "from torchvision.utils import make_grid\n",
    "import numpy  as np\n",
    "import matplotlib.pyplot as plt\n",
    "import  image_loader as il\n"
   ],
   "metadata": {
    "collapsed": false,
    "pycharm": {
     "name": "#%%\n",
     "is_executing": false
    }
   }
  },
  {
   "cell_type": "code",
   "execution_count": 2,
   "outputs": [
    {
     "name": "stdout",
     "text": [
      " AlexNet(\n  (features): Sequential(\n    (0): Conv2d(3, 64, kernel_size=(11, 11), stride=(4, 4), padding=(2, 2))\n    (1): ReLU(inplace=True)\n    (2): MaxPool2d(kernel_size=3, stride=2, padding=0, dilation=1, ceil_mode=False)\n    (3): Conv2d(64, 192, kernel_size=(5, 5), stride=(1, 1), padding=(2, 2))\n    (4): ReLU(inplace=True)\n    (5): MaxPool2d(kernel_size=3, stride=2, padding=0, dilation=1, ceil_mode=False)\n    (6): Conv2d(192, 384, kernel_size=(3, 3), stride=(1, 1), padding=(1, 1))\n    (7): ReLU(inplace=True)\n    (8): Conv2d(384, 256, kernel_size=(3, 3), stride=(1, 1), padding=(1, 1))\n    (9): ReLU(inplace=True)\n    (10): Conv2d(256, 256, kernel_size=(3, 3), stride=(1, 1), padding=(1, 1))\n    (11): ReLU(inplace=True)\n    (12): MaxPool2d(kernel_size=3, stride=2, padding=0, dilation=1, ceil_mode=False)\n  )\n  (avgpool): AdaptiveAvgPool2d(output_size=(6, 6))\n  (classifier): Sequential(\n    (0): Dropout(p=0.5, inplace=False)\n    (1): Linear(in_features=9216, out_features=4096, bias=True)\n    (2): ReLU(inplace=True)\n    (3): Dropout(p=0.5, inplace=False)\n    (4): Linear(in_features=4096, out_features=4096, bias=True)\n    (5): ReLU(inplace=True)\n    (6): Linear(in_features=4096, out_features=5, bias=True)\n  )\n)\nfeatures Sequential(\n  (0): Conv2d(3, 64, kernel_size=(11, 11), stride=(4, 4), padding=(2, 2))\n  (1): ReLU(inplace=True)\n  (2): MaxPool2d(kernel_size=3, stride=2, padding=0, dilation=1, ceil_mode=False)\n  (3): Conv2d(64, 192, kernel_size=(5, 5), stride=(1, 1), padding=(2, 2))\n  (4): ReLU(inplace=True)\n  (5): MaxPool2d(kernel_size=3, stride=2, padding=0, dilation=1, ceil_mode=False)\n  (6): Conv2d(192, 384, kernel_size=(3, 3), stride=(1, 1), padding=(1, 1))\n  (7): ReLU(inplace=True)\n  (8): Conv2d(384, 256, kernel_size=(3, 3), stride=(1, 1), padding=(1, 1))\n  (9): ReLU(inplace=True)\n  (10): Conv2d(256, 256, kernel_size=(3, 3), stride=(1, 1), padding=(1, 1))\n  (11): ReLU(inplace=True)\n  (12): MaxPool2d(kernel_size=3, stride=2, padding=0, dilation=1, ceil_mode=False)\n)\nfeatures.0 Conv2d(3, 64, kernel_size=(11, 11), stride=(4, 4), padding=(2, 2))\nfeatures.1 ReLU(inplace=True)\nfeatures.2 MaxPool2d(kernel_size=3, stride=2, padding=0, dilation=1, ceil_mode=False)\nfeatures.3 Conv2d(64, 192, kernel_size=(5, 5), stride=(1, 1), padding=(2, 2))\nfeatures.4 ReLU(inplace=True)\nfeatures.5 MaxPool2d(kernel_size=3, stride=2, padding=0, dilation=1, ceil_mode=False)\nfeatures.6 Conv2d(192, 384, kernel_size=(3, 3), stride=(1, 1), padding=(1, 1))\nfeatures.7 ReLU(inplace=True)\nfeatures.8 Conv2d(384, 256, kernel_size=(3, 3), stride=(1, 1), padding=(1, 1))\nfeatures.9 ReLU(inplace=True)\nfeatures.10 Conv2d(256, 256, kernel_size=(3, 3), stride=(1, 1), padding=(1, 1))\nfeatures.11 ReLU(inplace=True)\nfeatures.12 MaxPool2d(kernel_size=3, stride=2, padding=0, dilation=1, ceil_mode=False)\navgpool AdaptiveAvgPool2d(output_size=(6, 6))\nclassifier Sequential(\n  (0): Dropout(p=0.5, inplace=False)\n  (1): Linear(in_features=9216, out_features=4096, bias=True)\n  (2): ReLU(inplace=True)\n  (3): Dropout(p=0.5, inplace=False)\n  (4): Linear(in_features=4096, out_features=4096, bias=True)\n  (5): ReLU(inplace=True)\n  (6): Linear(in_features=4096, out_features=5, bias=True)\n)\nclassifier.0 Dropout(p=0.5, inplace=False)\nclassifier.1 Linear(in_features=9216, out_features=4096, bias=True)\nclassifier.2 ReLU(inplace=True)\nclassifier.3 Dropout(p=0.5, inplace=False)\nclassifier.4 Linear(in_features=4096, out_features=4096, bias=True)\nclassifier.5 ReLU(inplace=True)\nclassifier.6 Linear(in_features=4096, out_features=5, bias=True)\n"
     ],
     "output_type": "stream"
    }
   ],
   "source": [
    "alex = models.alexnet(pretrained=True)\n",
    "\n",
    "num_features = alex.classifier[6].in_features\n",
    "alex.classifier[6] = nn.Linear(num_features, 5) # output lables \n",
    "    \n",
    "\n",
    "for i, j in alex.named_modules():\n",
    "    print(i, j)\n",
    "\n",
    "loader = il.DatasetLoader.initial()\n",
    "train = loader.load_tensors(0, 100)\n",
    "test = loader.load_tensors(100, 150)\n"
   ],
   "metadata": {
    "collapsed": false,
    "pycharm": {
     "name": "#%%\n",
     "is_executing": false
    }
   }
  },
  {
   "cell_type": "code",
   "execution_count": 3,
   "outputs": [],
   "source": [
    "def to_3_dim_image(img):\n",
    "        layer = img[0].tolist()\n",
    "        t = torch.tensor([layer] * 3)\n",
    "        t[t==0] = 0.5\n",
    "        return t\n",
    "        \n",
    "def create_empty_image(shape = (3, 224, 224)):\n",
    "        t = torch.zeros(shape)\n",
    "        t[t==0] = 0.5\n",
    "        return t\n",
    "\n",
    "def visualize_cell(input_data:dict, output_data:dict):\n",
    "    lables = [(i, to_3_dim_image(input_data[i])) if i in input_data else (i, create_empty_image()) for i in il.labels_attributes]\n",
    "    lables.sort(key=lambda x:x[0])\n",
    "    inputs = list(filter(lambda x: x[0] == 'input', input_data.items()))\n",
    "    merged = lables + inputs    \n",
    "    print(list(map(lambda x: x[0], merged)))\n",
    "    imgs = make_grid(list(map(lambda x: x[1], merged)), padding=50).numpy()\n",
    "    plt.imshow(np.transpose(imgs, (1,2,0)))\n",
    "    plt.figure()\n",
    "    \n",
    "    output_lables = [(i, to_3_dim_image(output_data[i])) if i in output_data else (i, create_empty_image()) for i in il.labels_attributes]\n",
    "    merged_lables = output_lables\n",
    "    merged_lables.sort(key=lambda x:x[0])    \n",
    "    print(list(map(lambda x: x[0], merged_lables)))\n",
    "    imgs = make_grid(list(map(lambda x: x[1], merged_lables)), padding=50).numpy()\n",
    "    plt.imshow(np.transpose(imgs, (1,2,0)))"
   ],
   "metadata": {
    "collapsed": false,
    "pycharm": {
     "name": "#%% \n",
     "is_executing": false
    }
   }
  },
  {
   "cell_type": "code",
   "execution_count": 4,
   "outputs": [
    {
     "name": "stderr",
     "text": [
      "/home/nikita/anaconda3/envs/ml-diplom/lib/python3.7/site-packages/torch/nn/functional.py:2390: UserWarning: nn.functional.upsample is deprecated. Use nn.functional.interpolate instead.\n  warnings.warn(\"nn.functional.upsample is deprecated. Use nn.functional.interpolate instead.\")\n/home/nikita/anaconda3/envs/ml-diplom/lib/python3.7/site-packages/torch/nn/functional.py:2479: UserWarning: Default upsampling behavior when mode=bilinear is changed to align_corners=False since 0.4.0. Please specify align_corners=True if the old behavior is desired. See the documentation of nn.Upsample for details.\n  \"See the documentation of nn.Upsample for details.\".format(mode))\n/home/nikita/anaconda3/envs/ml-diplom/lib/python3.7/site-packages/torch/nn/functional.py:1350: UserWarning: nn.functional.sigmoid is deprecated. Use torch.sigmoid instead.\n  warnings.warn(\"nn.functional.sigmoid is deprecated. Use torch.sigmoid instead.\")\n"
     ],
     "output_type": "stream"
    },
    {
     "name": "stdout",
     "text": [
      "['globules', 'milia_like_cyst', 'negative_network', 'pigment_network', 'streaks', 'input']\n['globules', 'milia_like_cyst', 'negative_network', 'pigment_network', 'streaks']\n"
     ],
     "output_type": "stream"
    },
    {
     "data": {
      "text/plain": "<Figure size 432x288 with 1 Axes>",
      "image/png": "[encoded data removed]"
     },
     "metadata": {
      "needs_background": "light"
     },
     "output_type": "display_data"
    },
    {
     "data": {
      "text/plain": "<Figure size 432x288 with 1 Axes>",
      "image/png": "[encoded data removed]"
     },
     "metadata": {
      "needs_background": "light"
     },
     "output_type": "display_data"
    }
   ],
   "source": [
    "class GAIN:\n",
    "    \n",
    "    alpfa = 1\n",
    "    dablu = 10\n",
    "    def __init__(self, model, layer_name: str, gpu=False):\n",
    "        self.model = model\n",
    "\n",
    "        # set cuda\n",
    "        self.gpu = gpu\n",
    "        if self.gpu:\n",
    "            self.model = self.model.cuda()\n",
    "            self.tensor_source = torch.cuda\n",
    "        else:\n",
    "            self.tensor_source = torch\n",
    "\n",
    "        self._last_activation = None\n",
    "        self._last_grad = None\n",
    "\n",
    "        self.__register_callbacks(layer_name)\n",
    "        self.loss_cl = torch.nn.BCEWithLogitsLoss()\n",
    "\n",
    "    def __register_callbacks(self, layer_name: str):\n",
    "\n",
    "        def forward_callback(module, input_, output_):\n",
    "            self._last_activation = output_\n",
    "\n",
    "        def backward_callback(module, grad_in, grad_out):\n",
    "            self._last_grad = grad_out[0]\n",
    "\n",
    "        found_layer = False\n",
    "        for idx, layer in self.model.named_modules():\n",
    "            if idx == layer_name:\n",
    "                found_layer = True\n",
    "                layer.register_forward_hook(forward_callback)\n",
    "                layer.register_backward_hook(backward_callback)\n",
    "                break\n",
    "\n",
    "        if not found_layer:\n",
    "            raise ValueError(\"Not found layer:{}\".format(layer_name))\n",
    "\n",
    "    def train(self, train_set, epoch_number:int):\n",
    "        \n",
    "        for i in range(epoch_number):\n",
    "            print(i)\n",
    "        pass\n",
    "    \n",
    "    def russian_forward(self, input_image_data, mask_label_data, label_data):\n",
    "        # build attention map\n",
    "        output_classification = self.model(input_image_data)\n",
    "\n",
    "        # required for get dx / dy for substitution to eq 1\n",
    "        grad_target = (output_classification.float() * label_data).sum()\n",
    "        grad_target.backward(gradient=output_classification * label_data, retain_graph=True)\n",
    "\n",
    "        self.model.zero_grad()\n",
    "\n",
    "        # Eq 1\n",
    "        # find w_c from evaluate grad model for specified layer\n",
    "        layer_gradient = self._last_grad\n",
    "        # TODO what dim has layer_gradient\n",
    "        w_c = F.avg_pool2d(layer_gradient, (layer_gradient.shape[-2], layer_gradient.shape[-1]), 1)\n",
    "        # TODO why mul not div\n",
    "        w_c_new_shape = (w_c.shape[0] * w_c.shape[1], w_c.shape[2], w_c.shape[3])\n",
    "        w_c = w_c.view(w_c_new_shape).unsqueeze(0)\n",
    "\n",
    "        # Eq 2\n",
    "        # reshape current weights for compability with w_c\n",
    "        f_weights = self._last_activation\n",
    "        f_weights_new_shape = (f_weights.shape[0] * f_weights.shape[1], f_weights.shape[2], f_weights.shape[3])\n",
    "        f_weights = f_weights.view(f_weights_new_shape).unsqueeze(0)\n",
    "\n",
    "        a_c = F.relu(F.conv2d(f_weights, w_c))\n",
    "        a_c = F.upsample(a_c, size=input_image_data.size()[2:], mode='bilinear')\n",
    "        # here for a_c maybe add| upsample (augumentation), but not now\n",
    "\n",
    "        # calculate old plain classification loss\n",
    "        loss_cl = self.loss_cl(output_classification, label_data)\n",
    "\n",
    "        # her we has output_classification, classification_loss, a_c\n",
    "\n",
    "        i_star = self.__mask_image(input_image_data, a_c).detach()\n",
    "        \n",
    "        # here we want decrease weights, which are'nt marked by previous model as segment-importanse \n",
    "        output_am = self.model(i_star)\n",
    "        \n",
    "        loss_am = (F.sigmoid(output_am) * label_data).sum() / label_data.sum().type(self.tensor_source.FloatTensor)\n",
    "        \n",
    "        loss_e = ((mask_label_data - i_star) ** 2).sum()\n",
    "        loss_total = loss_cl + self.alpfa * loss_am + self.dablu * loss_e\n",
    "        # print(\"{}\\n{}\\n{}\".format(loss_cl, loss_am, loss_e))\n",
    "        # visualize_cell({'input':i_star[0]}, {})\n",
    "        return loss_total, loss_cl, loss_am, loss_e, a_c, i_star \n",
    "        \n",
    "    sigma = 0.1\n",
    "    omega = 0.9\n",
    "\n",
    "    def __mask_image(self, data_image, a_c):\n",
    "        # Eq 4\n",
    "        # I dont understand bellow 3 lines\n",
    "        a_c_min = a_c.min()\n",
    "        a_c_max = a_c.max()\n",
    "        a_c = (a_c - a_c_min) / (a_c_max - a_c_min)\n",
    "    \n",
    "        t_a_c = F.sigmoid(self.omega * (a_c - self.sigma)).squeeze()\n",
    "        # Eq 3\n",
    "        masked_image = data_image - (data_image * t_a_c)\n",
    "        return masked_image\n",
    "\n",
    "\n",
    "gg = GAIN(alex, \"features.10\")\n",
    "\n",
    "vector = torch.tensor([[1, 0, 0, 0, 0]]).float()\n",
    "\n",
    "\n",
    "gg.russian_forward(torch.tensor([train[0]['input'].tolist()]), \n",
    "                   torch.tensor([train[0]['streaks'].tolist()]), vector)\n",
    "\n",
    "visualize_cell({'input':train[0]['input']}, {})\n"
   ],
   "metadata": {
    "collapsed": false,
    "pycharm": {
     "name": "#%%\n",
     "is_executing": false
    }
   }
  },
  {
   "cell_type": "code",
   "execution_count": null,
   "outputs": [],
   "source": [
    "\n"
   ],
   "metadata": {
    "collapsed": false,
    "pycharm": {
     "name": "#%%\n"
    }
   }
  }
 ],
 "metadata": {
  "kernelspec": {
   "display_name": "Python 3",
   "language": "python",
   "name": "python3"
  },
  "language_info": {
   "codemirror_mode": {
    "name": "ipython",
    "version": 2
   },
   "file_extension": ".py",
   "mimetype": "text/x-python",
   "name": "python",
   "nbconvert_exporter": "python",
   "pygments_lexer": "ipython2",
   "version": "2.7.6"
  },
  "pycharm": {
   "stem_cell": {
    "cell_type": "raw",
    "source": [],
    "metadata": {
     "collapsed": false
    }
   }
  }
 },
 "nbformat": 4,
 "nbformat_minor": 0
}