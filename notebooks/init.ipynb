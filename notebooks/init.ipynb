{
 "cells": [
  {
   "cell_type": "code",
   "execution_count": 56,
   "outputs": [],
   "source": [
    "import torch.nn as nn\n",
    "import torch.nn.functional as F\n",
    "from torchvision import models\n",
    "import torch\n",
    "from torchvision.utils import make_grid\n",
    "import numpy  as np\n",
    "import matplotlib.pyplot as plt\n",
    "import  image_loader as il\n",
    "import torch.utils.data\n",
    "from torch.utils.data import DataLoader"
   ],
   "metadata": {
    "collapsed": false,
    "pycharm": {
     "name": "#%%\n",
     "is_executing": false
    }
   }
  },
  {
   "cell_type": "code",
   "execution_count": 57,
   "outputs": [
    {
     "name": "stdout",
     "text": [
      "VGG(\n  (features): Sequential(\n    (0): Conv2d(3, 64, kernel_size=(3, 3), stride=(1, 1), padding=(1, 1))\n    (1): ReLU(inplace=True)\n    (2): Conv2d(64, 64, kernel_size=(3, 3), stride=(1, 1), padding=(1, 1))\n    (3): ReLU(inplace=True)\n    (4): MaxPool2d(kernel_size=2, stride=2, padding=0, dilation=1, ceil_mode=False)\n    (5): Conv2d(64, 128, kernel_size=(3, 3), stride=(1, 1), padding=(1, 1))\n    (6): ReLU(inplace=True)\n    (7): Conv2d(128, 128, kernel_size=(3, 3), stride=(1, 1), padding=(1, 1))\n    (8): ReLU(inplace=True)\n    (9): MaxPool2d(kernel_size=2, stride=2, padding=0, dilation=1, ceil_mode=False)\n    (10): Conv2d(128, 256, kernel_size=(3, 3), stride=(1, 1), padding=(1, 1))\n    (11): ReLU(inplace=True)\n    (12): Conv2d(256, 256, kernel_size=(3, 3), stride=(1, 1), padding=(1, 1))\n    (13): ReLU(inplace=True)\n    (14): Conv2d(256, 256, kernel_size=(3, 3), stride=(1, 1), padding=(1, 1))\n    (15): ReLU(inplace=True)\n    (16): MaxPool2d(kernel_size=2, stride=2, padding=0, dilation=1, ceil_mode=False)\n    (17): Conv2d(256, 512, kernel_size=(3, 3), stride=(1, 1), padding=(1, 1))\n    (18): ReLU(inplace=True)\n    (19): Conv2d(512, 512, kernel_size=(3, 3), stride=(1, 1), padding=(1, 1))\n    (20): ReLU(inplace=True)\n    (21): Conv2d(512, 512, kernel_size=(3, 3), stride=(1, 1), padding=(1, 1))\n    (22): ReLU(inplace=True)\n    (23): MaxPool2d(kernel_size=2, stride=2, padding=0, dilation=1, ceil_mode=False)\n    (24): Conv2d(512, 512, kernel_size=(3, 3), stride=(1, 1), padding=(1, 1))\n    (25): ReLU(inplace=True)\n    (26): Conv2d(512, 512, kernel_size=(3, 3), stride=(1, 1), padding=(1, 1))\n    (27): ReLU(inplace=True)\n    (28): Conv2d(512, 512, kernel_size=(3, 3), stride=(1, 1), padding=(1, 1))\n    (29): ReLU(inplace=True)\n    (30): MaxPool2d(kernel_size=2, stride=2, padding=0, dilation=1, ceil_mode=False)\n  )\n  (avgpool): AdaptiveAvgPool2d(output_size=(7, 7))\n  (classifier): Sequential(\n    (0): Linear(in_features=25088, out_features=4096, bias=True)\n    (1): ReLU(inplace=True)\n    (2): Dropout(p=0.5, inplace=False)\n    (3): Linear(in_features=4096, out_features=4096, bias=True)\n    (4): ReLU(inplace=True)\n    (5): Dropout(p=0.5, inplace=False)\n    (6): Linear(in_features=4096, out_features=1000, bias=True)\n  )\n)\n"
     ],
     "output_type": "stream"
    }
   ],
   "source": [
    "alex = models.vgg16(pretrained=True)\n",
    "\n",
    "print(alex)\n",
    "num_features = alex.classifier[6].in_features\n",
    "alex.classifier[6] = nn.Linear(num_features, 5) # output labels\n",
    "\n",
    "loader = il.DatasetLoader.initial()\n",
    "train = loader.load_tensors(0, 100)\n",
    "test = loader.load_tensors(100, 150)\n",
    "\n",
    "train_set = DataLoader(il.ImageDataset(train), batch_size=1, shuffle=True, num_workers=4)\n",
    "test_set = DataLoader(il.ImageDataset(test), batch_size=1, shuffle=True, num_workers=4)"
   ],
   "metadata": {
    "collapsed": false,
    "pycharm": {
     "name": "#%%\n",
     "is_executing": false
    }
   }
  },
  {
   "cell_type": "code",
   "execution_count": 58,
   "outputs": [],
   "source": [
    "def to_3_dim_image(img):\n",
    "        layer = img[0].tolist()\n",
    "        t = torch.tensor([layer] * 3)\n",
    "        t[t==0] = 0.5\n",
    "        return t\n",
    "        \n",
    "def create_empty_image(shape = (3, 224, 224)):\n",
    "        t = torch.zeros(shape)\n",
    "        t[t==0] = 0.5\n",
    "        return t\n",
    "\n",
    "def visualize_cell(input_data:dict, output_data:dict):\n",
    "    lables = [(i, to_3_dim_image(input_data[i])) if i in input_data else (i, create_empty_image()) for i in il.labels_attributes]\n",
    "    lables.sort(key=lambda x:x[0])\n",
    "    inputs = list(filter(lambda x: x[0] == 'input', input_data.items()))\n",
    "    merged = lables + inputs    \n",
    "    print(list(map(lambda x: x[0], merged)))\n",
    "    imgs = make_grid(list(map(lambda x: x[1], merged)), padding=50).numpy()\n",
    "    plt.imshow(np.transpose(imgs, (1,2,0)))\n",
    "    plt.figure()\n",
    "    \n",
    "    output_lables = [(i, to_3_dim_image(output_data[i])) if i in output_data else (i, create_empty_image()) for i in il.labels_attributes]\n",
    "    merged_lables = output_lables\n",
    "    merged_lables.sort(key=lambda x:x[0])    \n",
    "    print(list(map(lambda x: x[0], merged_lables)))\n",
    "    imgs = make_grid(list(map(lambda x: x[1], merged_lables)), padding=50).numpy()\n",
    "    plt.imshow(np.transpose(imgs, (1,2,0)))\n",
    "\n",
    "def visualize_tensor(labels:torch.Tensor, inputs:torch.Tensor):\n",
    "    labels = [to_3_dim_image(i) for i in labels]\n",
    "    inputs = [inputs[0]]\n",
    "    merged = labels + inputs\n",
    "    imgs = make_grid(merged, padding=50).numpy()\n",
    "    plt.imshow(np.transpose(imgs, (1, 2, 0)))\n",
    "    plt.figure()\n",
    "    "
   ],
   "metadata": {
    "collapsed": false,
    "pycharm": {
     "name": "#%% \n",
     "is_executing": false
    }
   }
  },
  {
   "cell_type": "code",
   "execution_count": 63,
   "outputs": [
    {
     "name": "stdout",
     "text": [
      "==========\nEnd epoch: 1/11\nTotal Loss: 174824.6828125, classification loss: 0.1455891135931015, loss AM: 0.0758460542857647, loss segments: 17482.4461640625\n",
      "==========\nEnd epoch: 2/11\nTotal Loss: 174882.6564375, classification loss: 0.1466203521490097, loss AM: 0.07500061988830567, loss segments: 17488.2435\n",
      "==========\nEnd epoch: 3/11\nTotal Loss: 173974.6918125, classification loss: 0.14632311010360718, loss AM: 0.07582259112596512, loss segments: 17397.44675\n",
      "==========\nEnd epoch: 4/11\nTotal Loss: 174641.367125, classification loss: 0.14568495070934295, loss AM: 0.07550522920489311, loss segments: 17464.114734375\n",
      "==========\nEnd epoch: 5/11\nTotal Loss: 174346.4655625, classification loss: 0.14687554144859313, loss AM: 0.07550772726535797, loss segments: 17434.624328125\n",
      "==========\nEnd epoch: 6/11\nTotal Loss: 175428.85, classification loss: 0.14645571446418762, loss AM: 0.0750864907503128, loss segments: 17542.862796875\n",
      "==========\nEnd epoch: 7/11\nTotal Loss: 175332.787375, classification loss: 0.14605092167854308, loss AM: 0.07536563044786453, loss segments: 17533.2563671875\n",
      "==========\nEnd epoch: 8/11\nTotal Loss: 174120.072, classification loss: 0.14679193782806396, loss AM: 0.07498467400670052, loss segments: 17411.9849765625\n",
      "==========\nEnd epoch: 9/11\nTotal Loss: 175456.564375, classification loss: 0.14542282104492188, loss AM: 0.07537395519018174, loss segments: 17545.6343828125\n",
      "==========\nEnd epoch: 10/11\nTotal Loss: 175080.8255, classification loss: 0.14649395072460175, loss AM: 0.07529425740242005, loss segments: 17508.0603203125\n"
     ],
     "output_type": "stream"
    }
   ],
   "source": [
    "class GAIN:\n",
    "    \n",
    "    alpfa = 1\n",
    "    dablu = 10\n",
    "    def __init__(self, model, layer_name: str, gpu=False):\n",
    "        self.model = model\n",
    "\n",
    "        # set cuda\n",
    "        self.gpu = gpu\n",
    "        if self.gpu:\n",
    "            self.model = self.model.cuda()\n",
    "            self.tensor_source = torch.cuda\n",
    "            self.device = 'cuda'\n",
    "        else:\n",
    "            self.tensor_source = torch\n",
    "            self.device = 'cpu'\n",
    "\n",
    "        self._last_activation = None\n",
    "        self._last_grad = None\n",
    "\n",
    "        self.__register_callbacks(layer_name)\n",
    "        self.loss_cl = torch.nn.BCEWithLogitsLoss()\n",
    "\n",
    "    def __register_callbacks(self, layer_name: str):\n",
    "\n",
    "        def forward_callback(module, input_, output_):\n",
    "            self._last_activation = output_\n",
    "\n",
    "        def backward_callback(module, grad_in, grad_out):\n",
    "            self._last_grad = grad_out[0]\n",
    "\n",
    "        found_layer = False\n",
    "        for idx, layer in self.model.named_modules():\n",
    "            if idx == layer_name:\n",
    "                found_layer = True\n",
    "                layer.register_forward_hook(forward_callback)\n",
    "                layer.register_backward_hook(backward_callback)\n",
    "                break\n",
    "\n",
    "        if not found_layer:\n",
    "            raise ValueError(\"Not found layer:{}\".format(layer_name))\n",
    "\n",
    "    def train(self, data_loader: torch.utils.data.DataLoader, epoch_number:int = 10):\n",
    "        self.model.train()\n",
    "        best_model = self.model\n",
    "        best_total = 1e9\n",
    "        for epoch in range(epoch_number):\n",
    "            \n",
    "            loss_cl_sum = 0\n",
    "            loss_am_sum = 0\n",
    "            loss_segments_sum = 0\n",
    "            total_loss_sum = 0\n",
    "            total_idx = len(data_loader)\n",
    "            for idx, (inputs, segments, labels) in enumerate(data_loader):\n",
    "                inputs = inputs[0].to(self.device)\n",
    "                labels = labels[0].to(self.device)\n",
    "                segments = segments[0].to(self.device)\n",
    "                # size always 5\n",
    "                loss_total, loss_cl, loss_am, loss_e, a_c, i_star = self.russian_forward(best_model, inputs, segments, labels)\n",
    "                ll = self.loss_cl(a_c, segments)\n",
    "                ll.backward()\n",
    "                # loss_total.backward()\n",
    "                total_loss_sum += loss_total.item()\n",
    "                loss_cl_sum += loss_cl.item()\n",
    "                loss_am_sum += loss_am.item()\n",
    "                loss_segments_sum += loss_e.item() \n",
    "            loss_cl_sum = loss_cl_sum / (len(data_loader) * 5) \n",
    "            loss_am_sum = loss_am_sum / (len(data_loader) * 5)\n",
    "            loss_segments_sum = loss_segments_sum / (len(data_loader) * 5)\n",
    "            total_loss_sum = total_loss_sum / (len(data_loader) * 5)\n",
    "            \n",
    "            print(\"=\" * 10)\n",
    "            print(\"End epoch: {}/{}\".format(epoch + 1, epoch_number + 1))\n",
    "            print(\"Total Loss: {}, classification loss: {}, loss AM: {}, loss segments: {}\"\n",
    "                  .format(total_loss_sum, loss_cl_sum, loss_am_sum, loss_segments_sum))\n",
    "            if total_loss_sum < best_total:\n",
    "                best_model = self.model\n",
    "                best_total = total_loss_sum\n",
    "            \n",
    "        return best_model\n",
    "            \n",
    "    def russian_forward(self, model, input_image_data, mask_label_data, label_data):\n",
    "        # N -- labels number\n",
    "        # input_image_data  BS [5 x 3 x 244 x 244]\n",
    "        # N == BS\n",
    "        output_classification = model(input_image_data) # BS x N\n",
    "        \n",
    "        # required for get dx / dy for substitution to eq 1\n",
    "        grad_target = (output_classification.float() * label_data).sum()\n",
    "        grad_target.backward(gradient=output_classification * label_data, retain_graph=True)\n",
    "\n",
    "        model.zero_grad()\n",
    "\n",
    "        # Eq 1\n",
    "        # find w_c from evaluate grad model for specified layer\n",
    "        layer_gradient = self._last_grad # BS x C x H x W\n",
    "        \n",
    "        bs, c, h, w = layer_gradient.size()\n",
    "        w_c = F.avg_pool2d(layer_gradient, (h, w), 1)  # BS x C x 1 x 1\n",
    "        \n",
    "        # Eq 2\n",
    "        # reshape current weights for compability with w_c\n",
    "        f_weights = self._last_activation \n",
    "        f_weights_new_shape = (1, f_weights.shape[0] * f_weights.shape[1], f_weights.shape[2], f_weights.shape[3]) # 1 x (BS x C) x H x W\n",
    "        f_weights = f_weights.view(f_weights_new_shape)\n",
    "        \n",
    "        \n",
    "        a_c = F.relu(F.conv2d(f_weights, w_c, groups=bs))\n",
    "        a_c = F.interpolate(a_c, size=input_image_data.size()[2:], mode='bilinear', align_corners=False)\n",
    "        a_c = a_c.permute((1, 0, 2, 3))\n",
    "        # calculate old plain classification loss\n",
    "        loss_cl = self.loss_cl(output_classification, label_data)\n",
    "\n",
    "        # her we has output_classification, classification_loss, a_c\n",
    "        i_star = self.__mask_image(input_image_data, a_c)\n",
    "        \n",
    "        # here we want decrease weights, which are'nt marked by previous model as segment-importanse \n",
    "        output_am = model(i_star)\n",
    "        \n",
    "        loss_am = (F.sigmoid(output_am) * label_data).sum() / (label_data.sum().type(self.tensor_source.FloatTensor) + 1.0)\n",
    "        \n",
    "        loss_e = ((mask_label_data - i_star) ** 2).sum()\n",
    "        loss_total = loss_cl + self.alpfa * loss_am + self.dablu * loss_e\n",
    "\n",
    "        return loss_total, loss_cl, loss_am, loss_e, a_c, i_star \n",
    "        \n",
    "    sigma = 0.1\n",
    "    omega = 0.9\n",
    "\n",
    "    def __mask_image(self, data_image, a_c):\n",
    "        # Eq 4\n",
    "        # I don't understand bellow 3 lines\n",
    "        a_c_min = a_c.min()\n",
    "        a_c_max = a_c.max()\n",
    "        \n",
    "        a_c = a_c if (a_c_max - a_c_min).item() == 0 else (a_c - a_c_min) / (a_c_max - a_c_min)\n",
    "    \n",
    "        t_a_c = F.sigmoid(self.omega * (a_c - self.sigma))\n",
    "        # Eq 3\n",
    "        masked_image = data_image - (data_image * t_a_c)\n",
    "        return masked_image\n",
    "\n",
    "\n",
    "gg = GAIN(alex, \"features.28\", gpu=True)\n",
    "\n",
    "best_model = gg.train(train_set, 10)"
   ],
   "metadata": {
    "collapsed": false,
    "pycharm": {
     "name": "#%%\n",
     "is_executing": false
    }
   }
  },
  {
   "cell_type": "code",
   "execution_count": 66,
   "outputs": [
    {
     "data": {
      "text/plain": "<Figure size 432x288 with 1 Axes>",
      "image/png": "[encoded data removed]"
     },
     "metadata": {
      "needs_background": "light"
     },
     "output_type": "display_data"
    },
    {
     "data": {
      "text/plain": "<Figure size 432x288 with 1 Axes>",
      "image/png": "[encoded data removed]"
     },
     "metadata": {
      "needs_background": "light"
     },
     "output_type": "display_data"
    },
    {
     "data": {
      "text/plain": "<Figure size 432x288 with 1 Axes>",
      "image/png": "[encoded data removed]"
     },
     "metadata": {
      "needs_background": "light"
     },
     "output_type": "display_data"
    },
    {
     "data": {
      "text/plain": "<Figure size 432x288 with 0 Axes>"
     },
     "metadata": {},
     "output_type": "display_data"
    }
   ],
   "source": [
    "\n",
    "for idx, (inputs, segments, labels) in enumerate(test_set):\n",
    "    if idx <= 4:\n",
    "        continue\n",
    "    inputs = inputs[0].to('cuda')\n",
    "    labels = labels[0].to('cuda')\n",
    "    segments = segments[0].to('cuda')\n",
    "    _, _, _, _, a_c, i_start = gg.russian_forward(best_model, inputs, segments, labels)\n",
    "    a_c = a_c.cpu()\n",
    "    i_start = i_start.cpu()\n",
    "    inputs = inputs.cpu()\n",
    "    visualize_tensor(a_c, inputs)\n",
    "    visualize_tensor(i_start, inputs)\n",
    "    visualize_tensor(segments, inputs)\n",
    "    break"
   ],
   "metadata": {
    "collapsed": false,
    "pycharm": {
     "name": "#%%\n",
     "is_executing": false
    }
   }
  },
  {
   "cell_type": "code",
   "execution_count": null,
   "outputs": [],
   "source": [
    "\n"
   ],
   "metadata": {
    "collapsed": false,
    "pycharm": {
     "name": "#%%\n"
    }
   }
  }
 ],
 "metadata": {
  "kernelspec": {
   "display_name": "Python 3",
   "language": "python",
   "name": "python3"
  },
  "language_info": {
   "codemirror_mode": {
    "name": "ipython",
    "version": 2
   },
   "file_extension": ".py",
   "mimetype": "text/x-python",
   "name": "python",
   "nbconvert_exporter": "python",
   "pygments_lexer": "ipython2",
   "version": "2.7.6"
  },
  "pycharm": {
   "stem_cell": {
    "cell_type": "raw",
    "source": [],
    "metadata": {
     "collapsed": false
    }
   }
  }
 },
 "nbformat": 4,
 "nbformat_minor": 0
}