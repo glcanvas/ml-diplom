{
 "cells": [
  {
   "cell_type": "code",
   "execution_count": 1,
   "metadata": {
    "pycharm": {
     "is_executing": false,
     "name": "#%%\n"
    }
   },
   "outputs": [],
   "source": [
    "import torch\n",
    "import torch.nn as nn\n",
    "from torch.nn.modules import loss\n",
    "import torch.optim as optim\n",
    "import numpy as np\n",
    "import torchvision\n",
    "from torch.optim.optimizer import Optimizer\n",
    "from torchvision import datasets, models, transforms\n",
    "import matplotlib.pyplot as plt\n",
    "import copy\n",
    "\n",
    "import utilits"
   ]
  },
  {
   "cell_type": "code",
   "execution_count": 2,
   "metadata": {
    "pycharm": {
     "is_executing": false,
     "name": "#%%\n"
    }
   },
   "outputs": [
    {
     "name": "stdout",
     "text": [
      "False\n"
     ],
     "output_type": "stream"
    }
   ],
   "source": [
    "data_dir = \"/home/nikita/PycharmProjects/hymenoptera_data\"\n",
    "num_classes = 2\n",
    "batch_size = 8\n",
    "num_epochs = 25\n",
    "print(torch.cuda.is_available())\n",
    "device = torch.device(\"cuda\" if torch.cuda.is_available() else \"cpu\")"
   ]
  },
  {
   "cell_type": "code",
   "execution_count": 3,
   "outputs": [],
   "source": [
    "def set_parameter_requires_grad(model, feature_extracting):\n",
    "    if feature_extracting:\n",
    "        for param in model.parameters():\n",
    "            param.requires_grad = False"
   ],
   "metadata": {
    "collapsed": false,
    "pycharm": {
     "name": "#%%\n",
     "is_executing": false
    }
   }
  },
  {
   "cell_type": "code",
   "execution_count": 6,
   "outputs": [],
   "source": [
    "model_ft = models.alexnet(pretrained=True)\n",
    "\n",
    "set_parameter_requires_grad(model_ft, feature_extracting=False)\n",
    "\n",
    "params_to_update = []\n",
    "for name,param in model_ft.named_parameters():\n",
    "    if param.requires_grad:\n",
    "        params_to_update.append(param)\n",
    "\n",
    "optimizer_ft = optim.SGD(params_to_update, lr=0.001, momentum=0.9)\n",
    "criterion = nn.CrossEntropyLoss()\n",
    "\n",
    "# replace last layer from alexNet to custom classification\n",
    "num_ftrs = model_ft.classifier[6].in_features\n",
    "model_ft.classifier[6] = nn.Linear(num_ftrs,num_classes)\n",
    "\n",
    "state_sizes, dataloaders_dict = utilits.image_data(data_dir, batch_size)"
   ],
   "metadata": {
    "collapsed": false,
    "pycharm": {
     "name": "#%%\n",
     "is_executing": false
    }
   }
  },
  {
   "cell_type": "code",
   "execution_count": 7,
   "outputs": [],
   "source": [
    "def train_model_single_epoch(model:nn.Module, image_data:dict, criterion:nn.CrossEntropyLoss, optimizer:Optimizer,\n",
    "                            epoch:int, is_grad = True):\n",
    "    state = 'train'\n",
    "    model.train()\n",
    "    for inputs, labels in image_data[state]:\n",
    "        inputs = inputs.to(device)\n",
    "        labels = labels.to(device)\n",
    "        \n",
    "        # flush evaluated gradients\n",
    "        # what different ?\n",
    "        optimizer.zero_grad()\n",
    "        #model.zero_grad()\n",
    "        \n",
    "        output = model(inputs)\n",
    "        loss = criterion(output, labels)\n",
    "        if is_grad:\n",
    "            loss.backward()\n",
    "        # why bellow command ?\n",
    "        optimizer.step()      \n",
    "        \n",
    "    return model"
   ],
   "metadata": {
    "collapsed": false,
    "pycharm": {
     "name": "#%%\n",
     "is_executing": false
    }
   }
  },
  {
   "cell_type": "code",
   "execution_count": 8,
   "outputs": [],
   "source": [
    "def validate_model_single_epoch(model:nn.Module, image_data:dict, criterion:nn.CrossEntropyLoss, epoch:int):\n",
    "    state = 'val'\n",
    "    model.eval()\n",
    "    sum_loss = 0\n",
    "    correct_accumulate = 0\n",
    "    for inputs, labels in image_data[state]:\n",
    "        inputs = inputs.to(device)\n",
    "        labels = labels.to(device)\n",
    "        output = model(inputs)\n",
    "        loss = criterion(output, labels)\n",
    "        model_answer = torch.max(output, 1)[1]\n",
    "        corrects = batch_size - ((model_answer + labels) % 2).sum().item()\n",
    "        sum_loss += loss.item() * batch_size\n",
    "        correct_accumulate += corrects\n",
    "    \n",
    "    epoch_loss = sum_loss / state_sizes[state]\n",
    "    epoch_acc = float(correct_accumulate) / state_sizes[state]\n",
    "    print(\"epoch: {}, corrects:{:.4f}, loss:{:.4f}\".format(epoch, epoch_acc, epoch_loss))\n",
    "    return epoch_acc"
   ],
   "metadata": {
    "collapsed": false,
    "pycharm": {
     "name": "#%%\n",
     "is_executing": false
    }
   }
  },
  {
   "cell_type": "code",
   "execution_count": 9,
   "outputs": [],
   "source": [
    "def train_model(model, image_data, criterion, optimizer, num_epochs=25, is_grad=True):\n",
    "    best_model_state = copy.deepcopy(model.state_dict())\n",
    "    best_acc = 0.0\n",
    "    for epoch in range(num_epochs):\n",
    "        print('Epoch {}/{}'.format(epoch, num_epochs - 1))\n",
    "        print('-' * 10)\n",
    "        m = train_model_single_epoch(model, image_data, criterion, optimizer, epoch, is_grad)\n",
    "        acc = validate_model_single_epoch(m, image_data, criterion, epoch)\n",
    "        if acc > best_acc:\n",
    "            best_acc = acc\n",
    "            best_model_state = copy.deepcopy(m.state_dict())\n",
    "    \n",
    "    best_model = model.load_state_dict(best_model_state)\n",
    "    print(best_acc)\n",
    "    print(best_model)\n",
    "    return best_model"
   ],
   "metadata": {
    "collapsed": false,
    "pycharm": {
     "name": "#%%\n",
     "is_executing": false
    }
   }
  },
  {
   "cell_type": "code",
   "execution_count": 10,
   "metadata": {
    "pycharm": {
     "is_executing": false,
     "name": "#%%\n"
    }
   },
   "outputs": [
    {
     "name": "stdout",
     "text": [
      "Epoch 0/24\n----------\n",
      "epoch: 0, corrects:0.8497, loss:0.4499\nEpoch 1/24\n----------\n",
      "epoch: 1, corrects:0.9216, loss:0.4158\nEpoch 2/24\n----------\n",
      "epoch: 2, corrects:0.9150, loss:0.3640\nEpoch 3/24\n----------\n",
      "epoch: 3, corrects:0.9020, loss:0.4004\nEpoch 4/24\n----------\n",
      "epoch: 4, corrects:0.9216, loss:0.3876\nEpoch 5/24\n----------\n",
      "epoch: 5, corrects:0.9477, loss:0.3656\nEpoch 6/24\n----------\n",
      "epoch: 6, corrects:0.9085, loss:0.5285\nEpoch 7/24\n----------\n",
      "epoch: 7, corrects:0.9477, loss:0.3414\nEpoch 8/24\n----------\n",
      "epoch: 8, corrects:0.9412, loss:0.3912\nEpoch 9/24\n----------\n",
      "epoch: 9, corrects:0.9281, loss:0.3954\nEpoch 10/24\n----------\n",
      "epoch: 10, corrects:0.9281, loss:0.3575\nEpoch 11/24\n----------\n",
      "epoch: 11, corrects:0.9608, loss:0.3822\nEpoch 12/24\n----------\n",
      "epoch: 12, corrects:0.9412, loss:0.3862\nEpoch 13/24\n----------\n",
      "epoch: 13, corrects:0.9346, loss:0.4379\nEpoch 14/24\n----------\n",
      "epoch: 14, corrects:0.9150, loss:0.5164\nEpoch 15/24\n----------\n",
      "epoch: 15, corrects:0.9281, loss:0.4536\nEpoch 16/24\n----------\n",
      "epoch: 16, corrects:0.9281, loss:0.4430\nEpoch 17/24\n----------\n",
      "epoch: 17, corrects:0.9412, loss:0.4107\nEpoch 18/24\n----------\n",
      "epoch: 18, corrects:0.9477, loss:0.3834\nEpoch 19/24\n----------\n",
      "epoch: 19, corrects:0.9477, loss:0.4825\nEpoch 20/24\n----------\n",
      "epoch: 20, corrects:0.9216, loss:0.4024\nEpoch 21/24\n----------\n",
      "epoch: 21, corrects:0.9020, loss:0.5813\nEpoch 22/24\n----------\n",
      "epoch: 22, corrects:0.9346, loss:0.3711\nEpoch 23/24\n----------\n",
      "epoch: 23, corrects:0.9477, loss:0.3916\nEpoch 24/24\n----------\n",
      "epoch: 24, corrects:0.9412, loss:0.3231\n0.9607843137254902\n<All keys matched successfully>\n"
     ],
     "output_type": "stream"
    }
   ],
   "source": [
    "trained_model = train_model(model_ft, dataloaders_dict, criterion, optimizer_ft)"
   ]
  },
  {
   "cell_type": "code",
   "execution_count": 23,
   "metadata": {
    "pycharm": {
     "is_executing": false,
     "name": "#%%\n"
    }
   },
   "outputs": [],
   "source": [
    "model_conv = models.alexnet(pretrained=True)\n",
    "num_ftrs = model_conv.classifier[6].in_features\n",
    "model_conv.classifier[6] = nn.Linear(num_ftrs,num_classes)\n",
    "\n",
    "params = []\n",
    "for param in model_conv.parameters():\n",
    "    param.requires_grad = False\n",
    "    params.append(param)\n",
    "optimizer_conv = optim.SGD(params, lr=0.001, momentum=0.9)"
   ]
  },
  {
   "cell_type": "code",
   "execution_count": 24,
   "outputs": [
    {
     "name": "stdout",
     "text": [
      "Epoch 0/14\n----------\n",
      "epoch: 0, corrects:0.5752, loss:0.7454\nEpoch 1/14\n----------\n",
      "epoch: 1, corrects:0.5752, loss:0.6931\nEpoch 2/14\n----------\n",
      "epoch: 2, corrects:0.5752, loss:0.7215\nEpoch 3/14\n----------\n",
      "epoch: 3, corrects:0.5752, loss:0.6915\nEpoch 4/14\n----------\n",
      "epoch: 4, corrects:0.5752, loss:0.6903\nEpoch 5/14\n----------\n",
      "epoch: 5, corrects:0.5752, loss:0.7229\nEpoch 6/14\n----------\n",
      "epoch: 6, corrects:0.5752, loss:0.6956\nEpoch 7/14\n----------\n",
      "epoch: 7, corrects:0.5752, loss:0.6935\nEpoch 8/14\n----------\n",
      "epoch: 8, corrects:0.5752, loss:0.7454\nEpoch 9/14\n----------\n",
      "epoch: 9, corrects:0.5752, loss:0.7066\nEpoch 10/14\n----------\n",
      "epoch: 10, corrects:0.5752, loss:0.6941\nEpoch 11/14\n----------\n",
      "epoch: 11, corrects:0.5752, loss:0.7106\nEpoch 12/14\n----------\n",
      "epoch: 12, corrects:0.5752, loss:0.7062\nEpoch 13/14\n----------\n",
      "epoch: 13, corrects:0.5752, loss:0.7438\nEpoch 14/14\n----------\n",
      "epoch: 14, corrects:0.5752, loss:0.7209\n0.5751633986928104\n<All keys matched successfully>\n"
     ],
     "output_type": "stream"
    }
   ],
   "source": [
    "trained_model_conv = train_model(model_conv, dataloaders_dict, criterion, optimizer_conv, num_epochs=15, is_grad=False)\n",
    "\n",
    "\n",
    "\n",
    "\"\"\"\"\n",
    "\n",
    "d) \n",
    "H =\n",
    "1 1 1 1 1 1\n",
    "0 1 0 1 1 0\n",
    "0 0 1 0 1 1\n",
    "=>\n",
    "H = \n",
    "1 1 0 1 0 0\n",
    "1 0 0 0 1 0\n",
    "1 0 1 0 0 1\n",
    "G = \n",
    "1 0 0 1 1 1\n",
    "0 1 0 1 0 0\n",
    "0 0 1 0 0 1\n",
    "=> r = 3, k = 3, n = 6, d = 1\n",
    " \n",
    "e) \n",
    "G = \n",
    "0 0 1 0 1 1\n",
    "1 1 1 1 1 1\n",
    "1 0 1 1 0 0\n",
    "=> \n",
    "G = \n",
    "0 0 1 1 0 0\n",
    "1 1 1 0 1 0\n",
    "1 1 1 0 0 1\n",
    "H = \n",
    "0 0 1 1 0 0\n",
    "1 1 1 0 1 0\n",
    "1 1 1 0 0 1\n",
    "n = 6, k = 3, r = 3, d = 1\n",
    "\n",
    "f) \n",
    "G = \n",
    "0 1 0 1 1 0\n",
    "1 1 1 1 1 1 \n",
    "=> \n",
    "G = \n",
    "1 0 1 0 0 1\n",
    "0 1 0 1 1 0\n",
    "H = \n",
    "1 0 1 0 0 0 \n",
    "0 1 0 1 0 0\n",
    "0 1 0 0 1 0\n",
    "1 0 0 0 0 1\n",
    "  ^   ^ ^\n",
    "=>\n",
    "n = 6, k =2, r = 4, d = 2 \n",
    "g)\n",
    "H = \n",
    "0 1 0 1 1 0 0\n",
    "1 0 1 1 0 1 0\n",
    "1 1 1 1 1 1 1\n",
    "  ^     ^\n",
    "=> \n",
    "H =\n",
    "0 1 0 1 1 0 0\n",
    "1 0 1 1 0 1 0\n",
    "0 0 0 1 0 0 1\n",
    "=>\n",
    "G =\n",
    "1 0 0 0 0 1 0\n",
    "0 1 0 0 1 0 0\n",
    "0 0 1 0 0 1 0\n",
    "0 0 0 1 1 1 1\n",
    "=>\n",
    "n = 7, k = 4, r = 3, d = 1\n",
    "\n",
    "h)\n",
    "G = \n",
    "1 1 1 0 1 0 0\n",
    "0 1 1 1 0 1 0\n",
    "0 0 1 1 1 0 1\n",
    "=> \n",
    "G = \n",
    "1 0 0 1 1 1 0\n",
    "0 1 0 0 1 1 1\n",
    "0 0 1 1 1 0 1\n",
    "=>\n",
    "H = \n",
    "1 0 1 1 0 0 0\n",
    "1 1 1 0 1 0 0\n",
    "1 1 0 0 0 1 0\n",
    "0 1 1 0 0 0 1\n",
    "^     ^ ^ ^\n",
    "=> \n",
    "n = 7, k = 3, r = 4, d = 3\n",
    "\n",
    "i)\n",
    "H = \n",
    "1 1 1 0 1 0 0\n",
    "0 1 1 1 0 1 0\n",
    "1 1 1 1 1 1 1\n",
    "^       ^\n",
    "=> \n",
    "H = \n",
    "1 1 1 0 1 0 0 \n",
    "0 1 1 1 0 1 0\n",
    "0 1 1 0 0 0 1\n",
    "=> \n",
    "G = \n",
    "1 0 0 1 0 0 0\n",
    "1 1 1 0 1 0 0\n",
    "1 1 1 0 0 1 0\n",
    "0 1 0 0 0 0 1\n",
    "=> \n",
    "n = 7, k = 4, r = 3, d = 1\n",
    "\n",
    "\"\"\""
   ],
   "metadata": {
    "collapsed": false,
    "pycharm": {
     "name": "#%%\n",
     "is_executing": false
    }
   }
  },
  {
   "cell_type": "code",
   "execution_count": 80,
   "outputs": [
    {
     "name": "stdout",
     "text": [
      "[0.5691011400000001, 0.6513124383000002, 0.7175702976840004, 0.7712320727218503, 0.8146979798789038, 0.8499053641763854, 0.8784233453999499, 0.9015229097775138, 0.9202335569213986, 0.9353891811077326, 0.9476652366972641, 0.9576088417247846, 0.9656631617970758, 0.9721871610556316, 0.9774716004550617, 0.9817519963686003, 0.9852191170585665]\n[0.0772553001108834, 0.09561792499002673, 0.11361512828387049, 0.1312541872310217, 0.14854222890512433, 0.16548623854991237, 0.18209306240276912, 0.198369410460954, 0.214321859192781, 0.22995685419484466, 0.24528071279636723, 0.2602996266117195, 0.2750196640421463, 0.2894467727277076, 0.3035867819504261, 0.3174454049896126, 0.3310282414303194]\n[0.007972055930000112, 0.009955119790251791, 0.011934219505791075, 0.013909363000999002, 0.015880558184360002, 0.017847812948549473, 0.019811135170465316, 0.021770532711259557, 0.023726013416369752, 0.025677585115550426, 0.02762525562290444, 0.02956903273691425, 0.03150892424047316, 0.03344493790091646, 0.03537708147005253, 0.037305362684193884, 0.039229789264188186]\n"
     ],
     "output_type": "stream"
    },
    {
     "data": {
      "text/plain": "<matplotlib.axes._subplots.AxesSubplot at 0x7f1cc5b53550>"
     },
     "metadata": {},
     "output_type": "execute_result",
     "execution_count": 80
    },
    {
     "data": {
      "text/plain": "<Figure size 432x288 with 1 Axes>",
      "image/png": "[encoded data removed]"
     },
     "metadata": {
      "needs_background": "light"
     },
     "output_type": "display_data"
    }
   ],
   "source": [
    "import scipy.special as sc \n",
    "import pandas as pd\n",
    "\n",
    "def f(n:int, d:int, p:float):\n",
    "    a = 0\n",
    "    for i in range(d, n):\n",
    "        a += sc.comb(n, i) * (p ** (n - i)) * ((1 - p) ** i)  \n",
    "    return a \n",
    "\n",
    "n = [i for i in range(8, 42, 2)]\n",
    "k = [i for i in range(4, 21)]\n",
    "d = [4, 4, 4, 4, 5, 6, 6, 7, 8, 7, 8, 8, 8, 8, 8, 9, 10]\n",
    "nkd = list(map(lambda x: \"n={},k={},d={}\".format(x[0], x[1], x[2]), zip(n, k, d)))\n",
    "\n",
    "composed = {'x' : nkd}\n",
    "probs = [0.1, 0.01, 0.001]\n",
    "\n",
    "indexes = ['x']\n",
    "indexes.extend('p={}'.format(p) for p in probs)\n",
    "\n",
    "for p in probs:\n",
    "    ans = []\n",
    "    for item in range(len(n)):\n",
    "        res = f(n[item], d[item], p)\n",
    "        ans.append(res)\n",
    "    composed['p={}'.format(p)] = ans\n",
    "    print(ans)\n",
    "            \n",
    "df = pd.DataFrame(composed)\n",
    "df = df[indexes]\n",
    "df.set_index('x', inplace=True)\n",
    "df.plot(rot=-30)"
   ],
   "metadata": {
    "collapsed": false,
    "pycharm": {
     "name": "#%%\n",
     "is_executing": false
    }
   }
  },
  {
   "cell_type": "code",
   "execution_count": null,
   "outputs": [],
   "source": [
    "import scipy.integrate as integrate\n",
    "import pandas as pd\n",
    "\n",
    "n = [i for i in range(8, 42, 2)]\n",
    "k = [i for i in range(4, 21)]\n",
    "d = [4, 4, 4, 4, 5, 6, 6, 7, 8, 7, 8, 8, 8, 8, 8, 9, 10]\n",
    "nkd = list(map(lambda x: \"n={},k={},d={}\".format(x[0], x[1], x[2]), zip(n, k, d)))\n",
    "\n",
    "composed = {'x' : nkd}\n",
    "probs = [0.1, 0.01, 0.001]"
   ],
   "metadata": {
    "collapsed": false,
    "pycharm": {
     "name": "#%%\n"
    }
   }
  }
 ],
 "metadata": {
  "kernelspec": {
   "display_name": "Python 3",
   "language": "python",
   "name": "python3"
  },
  "language_info": {
   "codemirror_mode": {
    "name": "ipython",
    "version": 3
   },
   "file_extension": ".py",
   "mimetype": "text/x-python",
   "name": "python",
   "nbconvert_exporter": "python",
   "pygments_lexer": "ipython3",
   "version": "3.7.4"
  },
  "pycharm": {
   "stem_cell": {
    "cell_type": "raw",
    "source": [],
    "metadata": {
     "collapsed": false
    }
   }
  }
 },
 "nbformat": 4,
 "nbformat_minor": 1
}