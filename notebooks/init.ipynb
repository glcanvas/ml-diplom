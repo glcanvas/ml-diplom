{
 "cells": [
  {
   "cell_type": "code",
   "execution_count": 1,
   "outputs": [],
   "source": [
    "from sklearn.utils import shuffle\n",
    "from torchvision import datasets\n",
    "import torch.utils.data.dataset\n",
    "import os\n",
    "from torchvision import transforms\n",
    "from PIL import Image\n",
    "import torch\n",
    "from multiprocessing.pool import ThreadPool\n",
    "\n",
    "import image_loader as il\n",
    "import properties as pr\n",
    "\"\"\"\n",
    "r = il.map_inputs_labels(il.data_inputs_path, il.data_labels_path)\n",
    "\n",
    "train, validate = il.split_set(r, il.train_size, il.test_size)\n",
    "\n",
    "il.prepare_data(train, validate)\n",
    "\n",
    "for i in train:\n",
    "    il.save_data(il.tensor_train_path, i)\n",
    "for j in validate:\n",
    "    il.save_data(il.tensor_validate_path, j)\n",
    "\"\"\"\n",
    "\n",
    "train_tensor = il.load_tensors(pr.tensor_train_path)\n",
    "validate_tensor = il.load_tensors(pr.tensor_validate_path)\n",
    "\n",
    "train_tensor = list(map(il.remove_empty_mask, train_tensor))\n",
    "validate_tensor = list(map(il.remove_empty_mask, validate_tensor))"
   ],
   "metadata": {
    "collapsed": false,
    "pycharm": {
     "name": "#%%\n",
     "is_executing": false
    }
   }
  },
  {
   "cell_type": "code",
   "execution_count": 2,
   "outputs": [],
   "source": [
    "dataset = il.CustomDataset(train_tensor)\n",
    "l = torch.utils.data.DataLoader(dataset, batch_size=8, shuffle=True, num_workers=2)"
   ],
   "metadata": {
    "collapsed": false,
    "pycharm": {
     "name": "#%%\n",
     "is_executing": false
    }
   }
  },
  {
   "cell_type": "code",
   "execution_count": null,
   "outputs": [],
   "source": [],
   "metadata": {
    "collapsed": false,
    "pycharm": {
     "name": "#%%\n"
    }
   }
  }
 ],
 "metadata": {
  "kernelspec": {
   "display_name": "Python 3",
   "language": "python",
   "name": "python3"
  },
  "language_info": {
   "codemirror_mode": {
    "name": "ipython",
    "version": 3
   },
   "file_extension": ".py",
   "mimetype": "text/x-python",
   "name": "python",
   "nbconvert_exporter": "python",
   "pygments_lexer": "ipython3",
   "version": "3.7.4"
  },
  "pycharm": {
   "stem_cell": {
    "cell_type": "raw",
    "source": [],
    "metadata": {
     "collapsed": false
    }
   }
  }
 },
 "nbformat": 4,
 "nbformat_minor": 1
}