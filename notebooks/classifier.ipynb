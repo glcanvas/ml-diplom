{
 "cells": [
  {
   "cell_type": "code",
   "execution_count": 1,
   "outputs": [
    {
     "name": "stderr",
     "text": [
      "/home/nikita/anaconda3/envs/ml-diplom/lib/python3.7/site-packages/torchvision/transforms/transforms.py:210: UserWarning: The use of the transforms.Scale transform is deprecated, please use transforms.Resize instead.\n  warnings.warn(\"The use of the transforms.Scale transform is deprecated, \" +\n"
     ],
     "output_type": "stream"
    },
    {
     "name": "stdout",
     "text": [
      "prepared data is exists\n"
     ],
     "output_type": "stream"
    }
   ],
   "source": [
    "from torchvision import models\n",
    "import torch.utils.data.dataset\n",
    "import torch\n",
    "import torch.nn as nn\n",
    "import torch.optim as optimize\n",
    "import image_loader as il\n",
    "import properties as pr\n",
    "from torch.multiprocessing import Pool\n",
    "import os \n",
    "\n",
    "device = 'cuda' if torch.cuda.is_available() else \"cpu\"\n",
    "\n",
    "if device == 'cuda':\n",
    "    torch.multiprocessing.set_start_method('spawn', force=True)\n",
    "    torch.set_default_tensor_type('torch.cuda.FloatTensor')\n",
    "\n",
    "if os.path.isdir(pr.tensor_train_path) and os.path.isdir(pr.tensor_validate_path):\n",
    "    print(\"prepared data is exists\")\n",
    "    train_tensor = il.load_tensors(pr.tensor_train_path)\n",
    "    validate_tensor = il.load_tensors(pr.tensor_validate_path)\n",
    "else:\n",
    "    print(\"prepared data doesn't exists\")\n",
    "    r = il.map_inputs_labels(pr.data_inputs_path, pr.data_labels_path)\n",
    "    train, validate = il.split_set(r, pr.train_size, pr.test_size)\n",
    "    il.prepare_data(train, validate)\n",
    "    for i in train:\n",
    "        il.save_data(pr.tensor_train_path, i)\n",
    "    for j in validate:\n",
    "        il.save_data(pr.tensor_validate_path, j)\n",
    "        \n",
    "    train_tensor = il.load_tensors(pr.tensor_train_path)\n",
    "    validate_tensor = il.load_tensors(pr.tensor_validate_path)\n",
    "\"\"\"\n",
    "train_tensor = list(map(il.apply_resize, train_tensor))\n",
    "validate_tensor = list(map(il.apply_resize, validate_tensor))\n",
    "\n",
    "for i in train_tensor:\n",
    "    il.save_data(pr.tensor_train_path, i)\n",
    "for j in validate_tensor:\n",
    "    il.save_data(pr.tensor_validate_path, j)\n",
    "\"\"\"\n",
    "\n",
    "train_tensor = list(map(il.remove_empty_mask, train_tensor))\n",
    "validate_tensor = list(map(il.remove_empty_mask, validate_tensor))"
   ],
   "metadata": {
    "collapsed": false,
    "pycharm": {
     "name": "#%%\n",
     "is_executing": false
    }
   }
  },
  {
   "cell_type": "code",
   "execution_count": 2,
   "outputs": [],
   "source": [
    "def get_model_parameters_to_update(m:models.AlexNet) -> list:\n",
    "    params = []\n",
    "    for name, param in m.named_parameters():\n",
    "        # maybe here better check require gradient back propagation\n",
    "        # and then update\n",
    "        # print(\"name={}\".format(name))\n",
    "        params.append(param)\n",
    "    return params\n",
    "\n",
    "def set_model_last_layer(m:models.AlexNet) -> models.AlexNet:\n",
    "    num_features = m.classifier[6].in_features\n",
    "    m.classifier[6] = nn.Linear(num_features, pr.labels_number) # here 2 for each label \n",
    "    return m"
   ],
   "metadata": {
    "collapsed": false,
    "pycharm": {
     "name": "#%%\n",
     "is_executing": false
    }
   }
  },
  {
   "cell_type": "code",
   "execution_count": 3,
   "outputs": [],
   "source": [
    "### EXECUTE ONLY ONCE!!!!!!!!!!!\n",
    "model = models.alexnet(pretrained=True, progress=False)\n",
    "model = set_model_last_layer(model)\n",
    "\n",
    "parameters = get_model_parameters_to_update(model)\n",
    "data_train = torch.utils.data.DataLoader(il.CustomDataset(train_tensor), batch_size=4, shuffle=True, num_workers=4)\n",
    "data_validate = torch.utils.data.DataLoader(il.CustomDataset(validate_tensor), batch_size=4, shuffle=True, num_workers=4)\n",
    "crit = nn.SmoothL1Loss()\n",
    "optim = optimize.SGD(parameters, lr=0.001, momentum=0.9)\n"
   ],
   "metadata": {
    "collapsed": false,
    "pycharm": {
     "name": "#%% \n",
     "is_executing": false
    }
   }
  },
  {
   "cell_type": "code",
   "execution_count": 4,
   "outputs": [],
   "source": [
    "from model_processing.train_model import TrainModel\n",
    "\n",
    "from model_processing.validate_model import ValidateModel"
   ],
   "metadata": {
    "collapsed": false,
    "pycharm": {
     "name": "#%%\n",
     "is_executing": false
    }
   }
  },
  {
   "cell_type": "code",
   "execution_count": 5,
   "outputs": [
    {
     "name": "stdout",
     "text": [
      "Epoch: 1/10\n",
      "acc: 0.851646648908066\n--------------------\nEpoch: 2/10\n",
      "acc: 0.8464873758965359\n--------------------\nEpoch: 3/10\n",
      "acc: 0.8395762580569832\n--------------------\nEpoch: 4/10\n",
      "acc: 0.7985506170313421\n--------------------\nEpoch: 5/10\n",
      "acc: 0.7958712400146775\n--------------------\nEpoch: 6/10\n",
      "acc: 0.8139802083403304\n--------------------\nEpoch: 7/10\n",
      "acc: 0.8478839503646756\n--------------------\nEpoch: 8/10\n",
      "acc: 0.7804984863489599\n--------------------\nEpoch: 9/10\n",
      "acc: 0.808924053468127\n--------------------\nEpoch: 10/10\n",
      "acc: 0.7809302213536918\n--------------------\nbest acc: 0.851646648908066\n"
     ],
     "output_type": "stream"
    },
    {
     "data": {
      "text/plain": "<All keys matched successfully>"
     },
     "metadata": {},
     "output_type": "execute_result",
     "execution_count": 5
    }
   ],
   "source": [
    "validate_model = ValidateModel(pr.labels_number, device)\n",
    "train_model = TrainModel(validate_model, device)\n",
    "\n",
    "train_model.train_model(model, data_train,data_validate, crit, optim, 10)"
   ],
   "metadata": {
    "collapsed": false,
    "pycharm": {
     "name": "#%%\n",
     "is_executing": false
    }
   }
  }
 ],
 "metadata": {
  "kernelspec": {
   "display_name": "Python 3",
   "language": "python",
   "name": "python3"
  },
  "language_info": {
   "codemirror_mode": {
    "name": "ipython",
    "version": 3
   },
   "file_extension": ".py",
   "mimetype": "text/x-python",
   "name": "python",
   "nbconvert_exporter": "python",
   "pygments_lexer": "ipython3",
   "version": "3.7.4"
  },
  "pycharm": {
   "stem_cell": {
    "cell_type": "raw",
    "source": [],
    "metadata": {
     "collapsed": false
    }
   }
  }
 },
 "nbformat": 4,
 "nbformat_minor": 1
}