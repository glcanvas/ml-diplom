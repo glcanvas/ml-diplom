{
 "cells": [
  {
   "cell_type": "code",
   "execution_count": 1,
   "metadata": {
    "collapsed": true,
    "pycharm": {
     "is_executing": false
    }
   },
   "outputs": [
    {
     "data": {
      "text/plain": "<Figure size 640x480 with 1 Axes>"
     },
     "metadata": {},
     "output_type": "display_data"
    }
   ],
   "source": [
    "import mo.hw1.task7 as t7\n",
    "\n",
    "n_vars = list(range(2, 6))\n",
    "condition_numbers = t7.np.linspace(1, 10, 5)\n",
    "t7.plt.figure()\n",
    "for n in n_vars:\n",
    "    iter_numbers = [t7.number_of_iters(cond, n) for cond in condition_numbers]\n",
    "    t7.plt.plot(condition_numbers, iter_numbers, label=f'n={n}')\n",
    "\n",
    "t7.plt.xlabel('$\\mu$')\n",
    "t7.plt.ylabel('$T(n, k)$')\n",
    "t7.plt.legend()\n",
    "t7.plt.show()"
   ]
  },
  {
   "cell_type": "code",
   "execution_count": 3,
   "outputs": [],
   "source": [
    "t7.plt.show()"
   ],
   "metadata": {
    "collapsed": false,
    "pycharm": {
     "name": "#%%\n",
     "is_executing": false
    }
   }
  }
 ],
 "metadata": {
  "kernelspec": {
   "display_name": "Python 3",
   "language": "python",
   "name": "python3"
  },
  "language_info": {
   "codemirror_mode": {
    "name": "ipython",
    "version": 2
   },
   "file_extension": ".py",
   "mimetype": "text/x-python",
   "name": "python",
   "nbconvert_exporter": "python",
   "pygments_lexer": "ipython2",
   "version": "2.7.6"
  },
  "pycharm": {
   "stem_cell": {
    "cell_type": "raw",
    "source": [],
    "metadata": {
     "collapsed": false
    }
   }
  }
 },
 "nbformat": 4,
 "nbformat_minor": 0
}