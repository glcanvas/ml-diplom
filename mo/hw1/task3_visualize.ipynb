{
 "cells": [
  {
   "cell_type": "markdown",
   "metadata": {
    "collapsed": true,
    "pycharm": {
     "name": "#%% md\n"
    }
   },
   "source": [
    "### 3. Получите формулы для градиента и гессиана функции логистической регрессии. Выпишите их в отчет в матрично-векторной форме (без явных суммирований). Также выпишите в отчет выражение для самой функции логистической регрессии в матрично-векторной форме.\n",
    "Функция логистической регрессии:\n",
    "\n",
    "$$\n",
    "Q(w) = \\displaystyle \\sum_i ln(1 + e^{-y_i(x_i w)}) + {\\lambda \\over 2} w^T w\\\\\n",
    "= \\displaystyle \\sum_i y_i ln(1 + e^{-x_i w}) + (1 - y_i) ln(1 + e^{x_i w}) + {\\lambda \\over 2} w^T w\\\\\n",
    "= [1_n\\ 1 - y]\n",
    "\\begin{bmatrix}\n",
    "ln(1 + e^{-X w}) \\\\\n",
    "ln(1 + e^{X w})\n",
    "\\end{bmatrix}\n",
    "+ {\\lambda \\over 2} w^T w\n",
    "$$\n",
    "\n",
    "Градиент:\n",
    "$$\n",
    "\\nabla_w Q(w) = - \\displaystyle \\sum_i (1 - \\sigma(y_i(x_i w))) + \\lambda w\\\\\n",
    "= Tr(1 - \\sigma(y X w)) + \\lambda w\n",
    "$$\n",
    "\n",
    "Гессиан:\n",
    "\n",
    "$$\n",
    "H = {\\partial^2 Q(w) \\over \\partial w \\partial w^T}\\\\\n",
    "= \\displaystyle \\sum_i \\sigma(x_i w)(1 - \\sigma(x_i w))x_i x_i^T + \\lambda I\\\\\n",
    "= XAX^T + \\lambda I,\n",
    "$$\n",
    "где $a_{ii} = \\sigma(x_i w)(1 - \\sigma(x_i w))$"
   ]
  }
 ],
 "metadata": {
  "kernelspec": {
   "display_name": "Python 3",
   "language": "python",
   "name": "python3"
  },
  "language_info": {
   "codemirror_mode": {
    "name": "ipython",
    "version": 2
   },
   "file_extension": ".py",
   "mimetype": "text/x-python",
   "name": "python",
   "nbconvert_exporter": "python",
   "pygments_lexer": "ipython2",
   "version": "2.7.6"
  },
  "pycharm": {
   "stem_cell": {
    "cell_type": "raw",
    "source": [],
    "metadata": {
     "collapsed": false
    }
   }
  }
 },
 "nbformat": 4,
 "nbformat_minor": 0
}