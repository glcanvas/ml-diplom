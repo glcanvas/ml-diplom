{
 "cells": [
  {
   "cell_type": "code",
   "execution_count": null,
   "metadata": {
    "collapsed": true
   },
   "outputs": [],
   "source": [
    "# градиентный спуск\n",
    "# x_k+1 = x_k - a * f'(x_k)\n",
    "import math\n",
    "\n",
    "f = lambda x: x * x + x + 4\n",
    "f_grad = lambda x: 2 * x + 1\n",
    "\n",
    "EPS = 1e-5\n",
    "\n",
    "def simple_grad_search(x_k, alpha):\n",
    "    x_k_1 = x_k + alpha * f(x_k)\n",
    "    while math.fabs(f(x_k) - f(x_k_1)) > EPS:\n",
    "        print(x_k, x_k_1)\n",
    "        x_k = x_k_1"
   ]
  }
 ],
 "metadata": {
  "kernelspec": {
   "display_name": "Python 3",
   "language": "python",
   "name": "python3"
  },
  "language_info": {
   "codemirror_mode": {
    "name": "ipython",
    "version": 2
   },
   "file_extension": ".py",
   "mimetype": "text/x-python",
   "name": "python",
   "nbconvert_exporter": "python",
   "pygments_lexer": "ipython2",
   "version": "2.7.6"
  },
  "pycharm": {
   "stem_cell": {
    "cell_type": "raw",
    "source": [],
    "metadata": {
     "collapsed": false
    }
   }
  }
 },
 "nbformat": 4,
 "nbformat_minor": 0
}