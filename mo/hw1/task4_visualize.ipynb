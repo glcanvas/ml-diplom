{
 "cells": [
  {
   "cell_type": "code",
   "execution_count": 1,
   "metadata": {
    "collapsed": true,
    "pycharm": {
     "is_executing": false
    }
   },
   "outputs": [],
   "source": [
    "#### 4.2 Тестирование на наборе данных *Breast cancer*:\n",
    "import mo.hw1.task4 as t4"
   ]
  },
  {
   "cell_type": "code",
   "execution_count": 2,
   "outputs": [
    {
     "name": "stdout",
     "text": [
      "Confusion matrix\n    0    1\n0  99    2\n1  24  274\nAccuracy: 0.9348370927318296\nPrecision: 0.9801980198019802\nRecall: 0.8048780487804879\nF-score: 0.8839285714285714\n"
     ],
     "output_type": "stream"
    }
   ],
   "source": [
    "def det_train_test_split(X, y, test_part):\n",
    "    objects_num = X.shape[0]\n",
    "    test_part = 0.3\n",
    "    train_part = 1 - test_part\n",
    "    train_size = int(test_part * objects_num)\n",
    "    X_train, X_test, y_train, y_test = [], [], [], []\n",
    "    for i in range(train_size):\n",
    "        X_train.append(X[i])\n",
    "        y_train.append(y[i])\n",
    "    for i in range(train_size, objects_num):\n",
    "        X_test.append(X[i])\n",
    "        y_test.append(y[i])\n",
    "    X_train = t4.np.array(X_train)\n",
    "    y_train = t4.np.array(y_train)\n",
    "    X_test = t4.np.array(X_test)\n",
    "    y_test = t4.np.array(y_test)\n",
    "    return X_train, X_test, y_train, y_test\n",
    "\n",
    "\n",
    "def calc_score(X_train, X_test, y_train, y_test, lmd, w_begin, eps, max_iter_num, logistic_method, dec_lim_method):\n",
    "    w = logistic_method(X_train, y_train, lmd, w_begin, eps, max_iter_num)\n",
    "    dec_lim = dec_lim_method(X_train, w)\n",
    "    classifier = t4.get_classifier(w, dec_lim)\n",
    "\n",
    "    test_objects_num = X_test.shape[0]\n",
    "    conf_matrix = [[0] * 2 for _ in range(2)]\n",
    "    for i in range(test_objects_num):\n",
    "        y_real = y_test[i]\n",
    "        y_pred = classifier(X_test[i])\n",
    "        conf_matrix[y_pred][y_real] += 1\n",
    "\n",
    "    tp, fp, fn, tn = conf_matrix[0][0], conf_matrix[0][1], conf_matrix[1][0], conf_matrix[1][1]\n",
    "    accuracy = (tp + tn) / (tp + fp + fn + tn)\n",
    "    precision = tp / (tp + fp) if tp + fp > 0 else 0\n",
    "    recall = tp / (tp + fn)\n",
    "    f_score = 2 * precision * recall / (precision + recall) if precision + recall > 0 else 0\n",
    "    return conf_matrix, accuracy, precision, recall, f_score\n",
    "\n",
    "\n",
    "def print_score(title, conf_matrix, accuracy, precision, recall, f_score):\n",
    "    if title is not None:\n",
    "        print(title)\n",
    "    print('Confusion matrix')\n",
    "    print(t4.pd.DataFrame(conf_matrix))\n",
    "    print('Accuracy: {}'.format(accuracy))\n",
    "    print('Precision: {}'.format(precision))\n",
    "    print('Recall: {}'.format(recall))\n",
    "    print('F-score: {}'.format(f_score))\n",
    "\n",
    "\n",
    "def dec_lim_mean(X_train, w):\n",
    "    train_objects_num, _ = X_train.shape\n",
    "    sum_ = 0\n",
    "    for i in range(train_objects_num):\n",
    "        for j in range(len(w)):\n",
    "            sum_ += w[j] * X_train[i][j]\n",
    "    dec_lim = sum_ / train_objects_num\n",
    "    return dec_lim\n",
    "\n",
    "\n",
    "lgs_X, lgs_y = t4.datasets.load_breast_cancer(return_X_y=True)\n",
    "lgs_X_train, lgs_X_test, lgs_y_train, lgs_y_test = det_train_test_split(lgs_X, lgs_y, 0.3)\n",
    "lgs_lmd = 1e-2\n",
    "lgs_w_begin = [\n",
    "    -0.00017546, -0.00701235, 0.00737026, -0.005251, -0.00884388, -0.01521721,\n",
    "    0.00714003, -0.01315466, -0.00755301, 0.00589339, 0.00822666, -0.00387729,\n",
    "    0.00922983, 0.00066522, 0.01494301, 0.01284885, -0.0039456, 0.00708928,\n",
    "    0.00065247, -0.01562194, -0.00127419, -0.01482304, 0.01539881, 0.01018855,\n",
    "    -0.00404309, 0.00450084, -0.00044222, -0.00451975, -0.00546663, -0.00670873\n",
    "]\n",
    "lgs_eps = 1e-2\n",
    "lgs_max_iter_num = 10\n",
    "\n",
    "calc_score_applied = t4.partial(calc_score, lgs_X_train, lgs_X_test, lgs_y_train, lgs_y_test, lgs_lmd, lgs_w_begin, lgs_eps, lgs_max_iter_num)\n",
    "grd_conf_matrix, grd_accuracy, grd_precision, grd_recall, grd_f_score = calc_score_applied(t4.logistic_gradient, dec_lim_mean)\n",
    "print_score(None, grd_conf_matrix, grd_accuracy, grd_precision, grd_recall, grd_f_score)"
   ],
   "metadata": {
    "collapsed": false,
    "pycharm": {
     "name": "#%%\n",
     "is_executing": false
    }
   }
  }
 ],
 "metadata": {
  "kernelspec": {
   "display_name": "Python 3",
   "language": "python",
   "name": "python3"
  },
  "language_info": {
   "codemirror_mode": {
    "name": "ipython",
    "version": 2
   },
   "file_extension": ".py",
   "mimetype": "text/x-python",
   "name": "python",
   "nbconvert_exporter": "python",
   "pygments_lexer": "ipython2",
   "version": "2.7.6"
  },
  "pycharm": {
   "stem_cell": {
    "cell_type": "raw",
    "source": [],
    "metadata": {
     "collapsed": false
    }
   }
  }
 },
 "nbformat": 4,
 "nbformat_minor": 0
}